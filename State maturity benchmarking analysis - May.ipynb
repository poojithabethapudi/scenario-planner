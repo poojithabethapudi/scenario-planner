{
 "cells": [
  {
   "cell_type": "code",
   "execution_count": 1,
   "metadata": {},
   "outputs": [],
   "source": [
    "import pandas as pd, numpy as np, glob, os, math\n",
    "from datetime import date, timedelta\n",
    "import matplotlib.pyplot as plt"
   ]
  },
  {
   "cell_type": "code",
   "execution_count": 2,
   "metadata": {},
   "outputs": [
    {
     "data": {
      "text/html": [
       "<div>\n",
       "<style scoped>\n",
       "    .dataframe tbody tr th:only-of-type {\n",
       "        vertical-align: middle;\n",
       "    }\n",
       "\n",
       "    .dataframe tbody tr th {\n",
       "        vertical-align: top;\n",
       "    }\n",
       "\n",
       "    .dataframe thead th {\n",
       "        text-align: right;\n",
       "    }\n",
       "</style>\n",
       "<table border=\"1\" class=\"dataframe\">\n",
       "  <thead>\n",
       "    <tr style=\"text-align: right;\">\n",
       "      <th></th>\n",
       "      <th>Loanno</th>\n",
       "      <th>Client_no</th>\n",
       "      <th>LoanAmount</th>\n",
       "      <th>Loanbalance</th>\n",
       "      <th>Paidupto</th>\n",
       "      <th>Inst_complete</th>\n",
       "      <th>Centr</th>\n",
       "      <th>Group</th>\n",
       "      <th>LOAN_DATE</th>\n",
       "      <th>FIRSTINSTDT</th>\n",
       "      <th>...</th>\n",
       "      <th>LOANTYPE</th>\n",
       "      <th>Loancycle</th>\n",
       "      <th>Disb-mode</th>\n",
       "      <th>Collday</th>\n",
       "      <th>Collcycle</th>\n",
       "      <th>WoffBO</th>\n",
       "      <th>WoffBODt</th>\n",
       "      <th>BRANCH</th>\n",
       "      <th>MMLBRANCH</th>\n",
       "      <th>STATE</th>\n",
       "    </tr>\n",
       "  </thead>\n",
       "  <tbody>\n",
       "    <tr>\n",
       "      <th>0</th>\n",
       "      <td>URPK@61</td>\n",
       "      <td>134@URPK</td>\n",
       "      <td>20000</td>\n",
       "      <td>7231</td>\n",
       "      <td>2017-08-07</td>\n",
       "      <td>8</td>\n",
       "      <td>URPK/Centre-10</td>\n",
       "      <td>URPK/Centre-10/Group-1</td>\n",
       "      <td>2016-12-02</td>\n",
       "      <td>2017-01-02</td>\n",
       "      <td>...</td>\n",
       "      <td>M</td>\n",
       "      <td>MM</td>\n",
       "      <td>D</td>\n",
       "      <td>MON</td>\n",
       "      <td>1</td>\n",
       "      <td>NaN</td>\n",
       "      <td>NaN</td>\n",
       "      <td>URAPAKKAM</td>\n",
       "      <td>KANCHIPURAM MML</td>\n",
       "      <td>TAMILNADU</td>\n",
       "    </tr>\n",
       "    <tr>\n",
       "      <th>1</th>\n",
       "      <td>URPK@62</td>\n",
       "      <td>122@URPK</td>\n",
       "      <td>20000</td>\n",
       "      <td>7231</td>\n",
       "      <td>2017-08-07</td>\n",
       "      <td>8</td>\n",
       "      <td>URPK/Centre-10</td>\n",
       "      <td>URPK/Centre-10/Group-1</td>\n",
       "      <td>2016-12-02</td>\n",
       "      <td>2017-01-02</td>\n",
       "      <td>...</td>\n",
       "      <td>M</td>\n",
       "      <td>MM</td>\n",
       "      <td>D</td>\n",
       "      <td>MON</td>\n",
       "      <td>1</td>\n",
       "      <td>NaN</td>\n",
       "      <td>NaN</td>\n",
       "      <td>URAPAKKAM</td>\n",
       "      <td>KANCHIPURAM MML</td>\n",
       "      <td>TAMILNADU</td>\n",
       "    </tr>\n",
       "  </tbody>\n",
       "</table>\n",
       "<p>2 rows × 23 columns</p>\n",
       "</div>"
      ],
      "text/plain": [
       "    Loanno Client_no  LoanAmount  Loanbalance   Paidupto  Inst_complete  \\\n",
       "0  URPK@61  134@URPK       20000         7231 2017-08-07              8   \n",
       "1  URPK@62  122@URPK       20000         7231 2017-08-07              8   \n",
       "\n",
       "            Centr                   Group  LOAN_DATE FIRSTINSTDT    ...      \\\n",
       "0  URPK/Centre-10  URPK/Centre-10/Group-1 2016-12-02  2017-01-02    ...       \n",
       "1  URPK/Centre-10  URPK/Centre-10/Group-1 2016-12-02  2017-01-02    ...       \n",
       "\n",
       "   LOANTYPE  Loancycle  Disb-mode Collday Collcycle WoffBO WoffBODt  \\\n",
       "0         M         MM          D     MON         1    NaN      NaN   \n",
       "1         M         MM          D     MON         1    NaN      NaN   \n",
       "\n",
       "      BRANCH        MMLBRANCH      STATE  \n",
       "0  URAPAKKAM  KANCHIPURAM MML  TAMILNADU  \n",
       "1  URAPAKKAM  KANCHIPURAM MML  TAMILNADU  \n",
       "\n",
       "[2 rows x 23 columns]"
      ]
     },
     "execution_count": 2,
     "metadata": {},
     "output_type": "execute_result"
    }
   ],
   "source": [
    "df = pd.read_excel(r\"E:\\Muthoot POC\\Branch Data\\State level data.xlsx\")\n",
    "df.head(2)"
   ]
  },
  {
   "cell_type": "code",
   "execution_count": 3,
   "metadata": {},
   "outputs": [
    {
     "data": {
      "text/plain": [
       "(14999, 23)"
      ]
     },
     "execution_count": 3,
     "metadata": {},
     "output_type": "execute_result"
    }
   ],
   "source": [
    "df.shape"
   ]
  },
  {
   "cell_type": "code",
   "execution_count": 4,
   "metadata": {},
   "outputs": [],
   "source": [
    "# df.info()"
   ]
  },
  {
   "cell_type": "code",
   "execution_count": 5,
   "metadata": {},
   "outputs": [
    {
     "data": {
      "text/plain": [
       "Index(['Loanno', 'Client_no', 'LoanAmount', 'Loanbalance', 'Paidupto',\n",
       "       'Inst_complete', 'Centr', 'Group', 'LOAN_DATE', 'FIRSTINSTDT',\n",
       "       'INTEREST', 'INSTALLMENTS', 'EWIAMT', 'LOANTYPE', 'Loancycle', 'BRANCH',\n",
       "       'MMLBRANCH', 'STATE'],\n",
       "      dtype='object')"
      ]
     },
     "execution_count": 5,
     "metadata": {},
     "output_type": "execute_result"
    }
   ],
   "source": [
    "df1 = df[['Loanno', 'Client_no', 'LoanAmount', 'Loanbalance', 'Paidupto',\n",
    "       'Inst_complete', 'Centr', 'Group', 'LOAN_DATE', 'FIRSTINSTDT',\n",
    "       'INTEREST', 'INSTALLMENTS', 'EWIAMT', 'LOANTYPE', 'Loancycle',\n",
    "       'BRANCH',\n",
    "       'MMLBRANCH', 'STATE']]\n",
    "\n",
    "df1.columns"
   ]
  },
  {
   "cell_type": "code",
   "execution_count": 6,
   "metadata": {},
   "outputs": [],
   "source": [
    "df_loan_wise = df1"
   ]
  },
  {
   "cell_type": "code",
   "execution_count": 7,
   "metadata": {},
   "outputs": [
    {
     "data": {
      "text/html": [
       "<div>\n",
       "<style scoped>\n",
       "    .dataframe tbody tr th:only-of-type {\n",
       "        vertical-align: middle;\n",
       "    }\n",
       "\n",
       "    .dataframe tbody tr th {\n",
       "        vertical-align: top;\n",
       "    }\n",
       "\n",
       "    .dataframe thead th {\n",
       "        text-align: right;\n",
       "    }\n",
       "</style>\n",
       "<table border=\"1\" class=\"dataframe\">\n",
       "  <thead>\n",
       "    <tr style=\"text-align: right;\">\n",
       "      <th></th>\n",
       "      <th>LoanAmount</th>\n",
       "      <th>Loanbalance</th>\n",
       "      <th>Inst_complete</th>\n",
       "      <th>INTEREST</th>\n",
       "      <th>INSTALLMENTS</th>\n",
       "      <th>EWIAMT</th>\n",
       "    </tr>\n",
       "  </thead>\n",
       "  <tbody>\n",
       "    <tr>\n",
       "      <th>count</th>\n",
       "      <td>14999.000000</td>\n",
       "      <td>14999.000000</td>\n",
       "      <td>14999.000000</td>\n",
       "      <td>14999.000000</td>\n",
       "      <td>14999.000000</td>\n",
       "      <td>14999.000000</td>\n",
       "    </tr>\n",
       "    <tr>\n",
       "      <th>mean</th>\n",
       "      <td>23936.309621</td>\n",
       "      <td>15016.753450</td>\n",
       "      <td>8.147610</td>\n",
       "      <td>23.103580</td>\n",
       "      <td>19.879192</td>\n",
       "      <td>1515.782586</td>\n",
       "    </tr>\n",
       "    <tr>\n",
       "      <th>std</th>\n",
       "      <td>6210.714975</td>\n",
       "      <td>5605.579629</td>\n",
       "      <td>4.469311</td>\n",
       "      <td>0.373946</td>\n",
       "      <td>5.843249</td>\n",
       "      <td>379.892430</td>\n",
       "    </tr>\n",
       "    <tr>\n",
       "      <th>min</th>\n",
       "      <td>2074.000000</td>\n",
       "      <td>11.000000</td>\n",
       "      <td>0.000000</td>\n",
       "      <td>22.800000</td>\n",
       "      <td>8.000000</td>\n",
       "      <td>284.000000</td>\n",
       "    </tr>\n",
       "    <tr>\n",
       "      <th>25%</th>\n",
       "      <td>20000.000000</td>\n",
       "      <td>10752.000000</td>\n",
       "      <td>5.000000</td>\n",
       "      <td>22.800000</td>\n",
       "      <td>12.000000</td>\n",
       "      <td>1307.000000</td>\n",
       "    </tr>\n",
       "    <tr>\n",
       "      <th>50%</th>\n",
       "      <td>25000.000000</td>\n",
       "      <td>14640.000000</td>\n",
       "      <td>6.000000</td>\n",
       "      <td>22.800000</td>\n",
       "      <td>24.000000</td>\n",
       "      <td>1316.000000</td>\n",
       "    </tr>\n",
       "    <tr>\n",
       "      <th>75%</th>\n",
       "      <td>25000.000000</td>\n",
       "      <td>19992.000000</td>\n",
       "      <td>14.000000</td>\n",
       "      <td>23.500000</td>\n",
       "      <td>24.000000</td>\n",
       "      <td>1880.000000</td>\n",
       "    </tr>\n",
       "    <tr>\n",
       "      <th>max</th>\n",
       "      <td>45000.000000</td>\n",
       "      <td>31964.000000</td>\n",
       "      <td>25.000000</td>\n",
       "      <td>24.000000</td>\n",
       "      <td>24.000000</td>\n",
       "      <td>2368.000000</td>\n",
       "    </tr>\n",
       "  </tbody>\n",
       "</table>\n",
       "</div>"
      ],
      "text/plain": [
       "         LoanAmount   Loanbalance  Inst_complete      INTEREST  INSTALLMENTS  \\\n",
       "count  14999.000000  14999.000000   14999.000000  14999.000000  14999.000000   \n",
       "mean   23936.309621  15016.753450       8.147610     23.103580     19.879192   \n",
       "std     6210.714975   5605.579629       4.469311      0.373946      5.843249   \n",
       "min     2074.000000     11.000000       0.000000     22.800000      8.000000   \n",
       "25%    20000.000000  10752.000000       5.000000     22.800000     12.000000   \n",
       "50%    25000.000000  14640.000000       6.000000     22.800000     24.000000   \n",
       "75%    25000.000000  19992.000000      14.000000     23.500000     24.000000   \n",
       "max    45000.000000  31964.000000      25.000000     24.000000     24.000000   \n",
       "\n",
       "             EWIAMT  \n",
       "count  14999.000000  \n",
       "mean    1515.782586  \n",
       "std      379.892430  \n",
       "min      284.000000  \n",
       "25%     1307.000000  \n",
       "50%     1316.000000  \n",
       "75%     1880.000000  \n",
       "max     2368.000000  "
      ]
     },
     "execution_count": 7,
     "metadata": {},
     "output_type": "execute_result"
    }
   ],
   "source": [
    "df1.describe()"
   ]
  },
  {
   "cell_type": "code",
   "execution_count": 8,
   "metadata": {},
   "outputs": [],
   "source": [
    "df2 = df1[['BRANCH','Loanbalance']].groupby('BRANCH').count()\n",
    "df2.columns = ['Productivity']"
   ]
  },
  {
   "cell_type": "code",
   "execution_count": 9,
   "metadata": {
    "scrolled": true
   },
   "outputs": [
    {
     "data": {
      "text/html": [
       "<div>\n",
       "<style scoped>\n",
       "    .dataframe tbody tr th:only-of-type {\n",
       "        vertical-align: middle;\n",
       "    }\n",
       "\n",
       "    .dataframe tbody tr th {\n",
       "        vertical-align: top;\n",
       "    }\n",
       "\n",
       "    .dataframe thead th {\n",
       "        text-align: right;\n",
       "    }\n",
       "</style>\n",
       "<table border=\"1\" class=\"dataframe\">\n",
       "  <thead>\n",
       "    <tr style=\"text-align: right;\">\n",
       "      <th></th>\n",
       "      <th>Productivity</th>\n",
       "    </tr>\n",
       "    <tr>\n",
       "      <th>BRANCH</th>\n",
       "      <th></th>\n",
       "    </tr>\n",
       "  </thead>\n",
       "  <tbody>\n",
       "    <tr>\n",
       "      <th>ALANDURAI</th>\n",
       "      <td>28</td>\n",
       "    </tr>\n",
       "    <tr>\n",
       "      <th>ALANGUDI</th>\n",
       "      <td>9</td>\n",
       "    </tr>\n",
       "    <tr>\n",
       "      <th>ALANGULAM-OLD BUS STAND</th>\n",
       "      <td>13</td>\n",
       "    </tr>\n",
       "    <tr>\n",
       "      <th>ALWARTHIRUNAGARI</th>\n",
       "      <td>13</td>\n",
       "    </tr>\n",
       "    <tr>\n",
       "      <th>AMBASAMUDRAM</th>\n",
       "      <td>12</td>\n",
       "    </tr>\n",
       "    <tr>\n",
       "      <th>ANANDPUR SAHIB GL</th>\n",
       "      <td>26</td>\n",
       "    </tr>\n",
       "    <tr>\n",
       "      <th>ANDHIYUR</th>\n",
       "      <td>51</td>\n",
       "    </tr>\n",
       "    <tr>\n",
       "      <th>ANDIMADAM</th>\n",
       "      <td>40</td>\n",
       "    </tr>\n",
       "    <tr>\n",
       "      <th>ANKLESHWAR</th>\n",
       "      <td>498</td>\n",
       "    </tr>\n",
       "    <tr>\n",
       "      <th>ANNA SALAI-PONDICHERRY</th>\n",
       "      <td>19</td>\n",
       "    </tr>\n",
       "    <tr>\n",
       "      <th>ANNUR</th>\n",
       "      <td>3</td>\n",
       "    </tr>\n",
       "    <tr>\n",
       "      <th>ARACHALUR</th>\n",
       "      <td>23</td>\n",
       "    </tr>\n",
       "    <tr>\n",
       "      <th>ARALVAIMOZHI 2</th>\n",
       "      <td>5</td>\n",
       "    </tr>\n",
       "    <tr>\n",
       "      <th>ARIYALUR</th>\n",
       "      <td>153</td>\n",
       "    </tr>\n",
       "    <tr>\n",
       "      <th>ARNI</th>\n",
       "      <td>6</td>\n",
       "    </tr>\n",
       "    <tr>\n",
       "      <th>ARUMANAI</th>\n",
       "      <td>14</td>\n",
       "    </tr>\n",
       "    <tr>\n",
       "      <th>ARUMUGANERI</th>\n",
       "      <td>18</td>\n",
       "    </tr>\n",
       "    <tr>\n",
       "      <th>ATHIRAMPATTINAM</th>\n",
       "      <td>71</td>\n",
       "    </tr>\n",
       "    <tr>\n",
       "      <th>AVINASI</th>\n",
       "      <td>28</td>\n",
       "    </tr>\n",
       "    <tr>\n",
       "      <th>AYYAMPETTAI-THANJAVUR</th>\n",
       "      <td>27</td>\n",
       "    </tr>\n",
       "    <tr>\n",
       "      <th>AZHAGIAPANDIPURAM</th>\n",
       "      <td>22</td>\n",
       "    </tr>\n",
       "    <tr>\n",
       "      <th>AZHAKIYAMANDAPAM</th>\n",
       "      <td>13</td>\n",
       "    </tr>\n",
       "    <tr>\n",
       "      <th>BAHOUR-PONDY</th>\n",
       "      <td>7</td>\n",
       "    </tr>\n",
       "    <tr>\n",
       "      <th>BARNALA-PUNJAB</th>\n",
       "      <td>695</td>\n",
       "    </tr>\n",
       "    <tr>\n",
       "      <th>BATALA-PUNJAB</th>\n",
       "      <td>14</td>\n",
       "    </tr>\n",
       "    <tr>\n",
       "      <th>BHAVANI</th>\n",
       "      <td>32</td>\n",
       "    </tr>\n",
       "    <tr>\n",
       "      <th>BHAVANI-NEW BUS STAND</th>\n",
       "      <td>3</td>\n",
       "    </tr>\n",
       "    <tr>\n",
       "      <th>BHAVNAGAR</th>\n",
       "      <td>181</td>\n",
       "    </tr>\n",
       "    <tr>\n",
       "      <th>BODELI-BARODA</th>\n",
       "      <td>134</td>\n",
       "    </tr>\n",
       "    <tr>\n",
       "      <th>CHENNIMALAI</th>\n",
       "      <td>28</td>\n",
       "    </tr>\n",
       "    <tr>\n",
       "      <th>...</th>\n",
       "      <td>...</td>\n",
       "    </tr>\n",
       "    <tr>\n",
       "      <th>THUCKALAY</th>\n",
       "      <td>11</td>\n",
       "    </tr>\n",
       "    <tr>\n",
       "      <th>THURAIYUR</th>\n",
       "      <td>23</td>\n",
       "    </tr>\n",
       "    <tr>\n",
       "      <th>THUVARANKURUCHI</th>\n",
       "      <td>11</td>\n",
       "    </tr>\n",
       "    <tr>\n",
       "      <th>TIRUCHENGODE</th>\n",
       "      <td>46</td>\n",
       "    </tr>\n",
       "    <tr>\n",
       "      <th>TIRUKOILUR</th>\n",
       "      <td>64</td>\n",
       "    </tr>\n",
       "    <tr>\n",
       "      <th>TN PALAYAM-ERODE</th>\n",
       "      <td>1</td>\n",
       "    </tr>\n",
       "    <tr>\n",
       "      <th>TRIKON BAUG-RAJKOT</th>\n",
       "      <td>209</td>\n",
       "    </tr>\n",
       "    <tr>\n",
       "      <th>TRIPLICANE</th>\n",
       "      <td>5</td>\n",
       "    </tr>\n",
       "    <tr>\n",
       "      <th>UDUMELPET-PALANI MAIN ROAD</th>\n",
       "      <td>6</td>\n",
       "    </tr>\n",
       "    <tr>\n",
       "      <th>UDUMELPETT</th>\n",
       "      <td>18</td>\n",
       "    </tr>\n",
       "    <tr>\n",
       "      <th>ULUNDERPET</th>\n",
       "      <td>107</td>\n",
       "    </tr>\n",
       "    <tr>\n",
       "      <th>URAMBU-MARKET</th>\n",
       "      <td>1</td>\n",
       "    </tr>\n",
       "    <tr>\n",
       "      <th>URAPAKKAM</th>\n",
       "      <td>2</td>\n",
       "    </tr>\n",
       "    <tr>\n",
       "      <th>VADALUR</th>\n",
       "      <td>83</td>\n",
       "    </tr>\n",
       "    <tr>\n",
       "      <th>VAIYAMPATTI-RAILWAY STATION RO</th>\n",
       "      <td>9</td>\n",
       "    </tr>\n",
       "    <tr>\n",
       "      <th>VALLAVANUR-VILLUPURAM</th>\n",
       "      <td>5</td>\n",
       "    </tr>\n",
       "    <tr>\n",
       "      <th>VAPI-GUJARATH</th>\n",
       "      <td>516</td>\n",
       "    </tr>\n",
       "    <tr>\n",
       "      <th>VEDACHANDUR</th>\n",
       "      <td>2</td>\n",
       "    </tr>\n",
       "    <tr>\n",
       "      <th>VEDARANIAM</th>\n",
       "      <td>81</td>\n",
       "    </tr>\n",
       "    <tr>\n",
       "      <th>VEERAVANALLUR</th>\n",
       "      <td>20</td>\n",
       "    </tr>\n",
       "    <tr>\n",
       "      <th>VELLAKOVIL</th>\n",
       "      <td>112</td>\n",
       "    </tr>\n",
       "    <tr>\n",
       "      <th>VERKILAMBI-KANYAKUMARI</th>\n",
       "      <td>5</td>\n",
       "    </tr>\n",
       "    <tr>\n",
       "      <th>VIKRAVANDI</th>\n",
       "      <td>94</td>\n",
       "    </tr>\n",
       "    <tr>\n",
       "      <th>VILATHIKULAM</th>\n",
       "      <td>44</td>\n",
       "    </tr>\n",
       "    <tr>\n",
       "      <th>VILLIANOOR-PONDICHERRY</th>\n",
       "      <td>4</td>\n",
       "    </tr>\n",
       "    <tr>\n",
       "      <th>VILLUKURY</th>\n",
       "      <td>8</td>\n",
       "    </tr>\n",
       "    <tr>\n",
       "      <th>VILLUPURAM</th>\n",
       "      <td>53</td>\n",
       "    </tr>\n",
       "    <tr>\n",
       "      <th>VIRALIMALAI-PUDUKKOTTAI</th>\n",
       "      <td>16</td>\n",
       "    </tr>\n",
       "    <tr>\n",
       "      <th>VIRUDHACHALAM</th>\n",
       "      <td>27</td>\n",
       "    </tr>\n",
       "    <tr>\n",
       "      <th>VIRUDHUNAGAR-S P KOVIL STREET</th>\n",
       "      <td>40</td>\n",
       "    </tr>\n",
       "  </tbody>\n",
       "</table>\n",
       "<p>238 rows × 1 columns</p>\n",
       "</div>"
      ],
      "text/plain": [
       "                                Productivity\n",
       "BRANCH                                      \n",
       "ALANDURAI                                 28\n",
       "ALANGUDI                                   9\n",
       "ALANGULAM-OLD BUS STAND                   13\n",
       "ALWARTHIRUNAGARI                          13\n",
       "AMBASAMUDRAM                              12\n",
       "ANANDPUR SAHIB GL                         26\n",
       "ANDHIYUR                                  51\n",
       "ANDIMADAM                                 40\n",
       "ANKLESHWAR                               498\n",
       "ANNA SALAI-PONDICHERRY                    19\n",
       "ANNUR                                      3\n",
       "ARACHALUR                                 23\n",
       "ARALVAIMOZHI 2                             5\n",
       "ARIYALUR                                 153\n",
       "ARNI                                       6\n",
       "ARUMANAI                                  14\n",
       "ARUMUGANERI                               18\n",
       "ATHIRAMPATTINAM                           71\n",
       "AVINASI                                   28\n",
       "AYYAMPETTAI-THANJAVUR                     27\n",
       "AZHAGIAPANDIPURAM                         22\n",
       "AZHAKIYAMANDAPAM                          13\n",
       "BAHOUR-PONDY                               7\n",
       "BARNALA-PUNJAB                           695\n",
       "BATALA-PUNJAB                             14\n",
       "BHAVANI                                   32\n",
       "BHAVANI-NEW BUS STAND                      3\n",
       "BHAVNAGAR                                181\n",
       "BODELI-BARODA                            134\n",
       "CHENNIMALAI                               28\n",
       "...                                      ...\n",
       "THUCKALAY                                 11\n",
       "THURAIYUR                                 23\n",
       "THUVARANKURUCHI                           11\n",
       "TIRUCHENGODE                              46\n",
       "TIRUKOILUR                                64\n",
       "TN PALAYAM-ERODE                           1\n",
       "TRIKON BAUG-RAJKOT                       209\n",
       "TRIPLICANE                                 5\n",
       "UDUMELPET-PALANI MAIN ROAD                 6\n",
       "UDUMELPETT                                18\n",
       "ULUNDERPET                               107\n",
       "URAMBU-MARKET                              1\n",
       "URAPAKKAM                                  2\n",
       "VADALUR                                   83\n",
       "VAIYAMPATTI-RAILWAY STATION RO             9\n",
       "VALLAVANUR-VILLUPURAM                      5\n",
       "VAPI-GUJARATH                            516\n",
       "VEDACHANDUR                                2\n",
       "VEDARANIAM                                81\n",
       "VEERAVANALLUR                             20\n",
       "VELLAKOVIL                               112\n",
       "VERKILAMBI-KANYAKUMARI                     5\n",
       "VIKRAVANDI                                94\n",
       "VILATHIKULAM                              44\n",
       "VILLIANOOR-PONDICHERRY                     4\n",
       "VILLUKURY                                  8\n",
       "VILLUPURAM                                53\n",
       "VIRALIMALAI-PUDUKKOTTAI                   16\n",
       "VIRUDHACHALAM                             27\n",
       "VIRUDHUNAGAR-S P KOVIL STREET             40\n",
       "\n",
       "[238 rows x 1 columns]"
      ]
     },
     "execution_count": 9,
     "metadata": {},
     "output_type": "execute_result"
    }
   ],
   "source": [
    "df2"
   ]
  },
  {
   "cell_type": "code",
   "execution_count": 10,
   "metadata": {},
   "outputs": [],
   "source": [
    "df3 = df1[['BRANCH','LoanAmount']].groupby('BRANCH').sum()\n",
    "df2['Agg'] = df3['LoanAmount']\n",
    "df2['Average Ticket Size'] = df2['Agg']/df2['Productivity']\n",
    "df2.drop('Agg',axis=1,inplace=True)"
   ]
  },
  {
   "cell_type": "code",
   "execution_count": 11,
   "metadata": {
    "scrolled": true
   },
   "outputs": [
    {
     "data": {
      "text/html": [
       "<div>\n",
       "<style scoped>\n",
       "    .dataframe tbody tr th:only-of-type {\n",
       "        vertical-align: middle;\n",
       "    }\n",
       "\n",
       "    .dataframe tbody tr th {\n",
       "        vertical-align: top;\n",
       "    }\n",
       "\n",
       "    .dataframe thead th {\n",
       "        text-align: right;\n",
       "    }\n",
       "</style>\n",
       "<table border=\"1\" class=\"dataframe\">\n",
       "  <thead>\n",
       "    <tr style=\"text-align: right;\">\n",
       "      <th></th>\n",
       "      <th>Productivity</th>\n",
       "      <th>Average Ticket Size</th>\n",
       "    </tr>\n",
       "    <tr>\n",
       "      <th>BRANCH</th>\n",
       "      <th></th>\n",
       "      <th></th>\n",
       "    </tr>\n",
       "  </thead>\n",
       "  <tbody>\n",
       "    <tr>\n",
       "      <th>ALANDURAI</th>\n",
       "      <td>28</td>\n",
       "      <td>26250.000000</td>\n",
       "    </tr>\n",
       "    <tr>\n",
       "      <th>ALANGUDI</th>\n",
       "      <td>9</td>\n",
       "      <td>28888.888889</td>\n",
       "    </tr>\n",
       "  </tbody>\n",
       "</table>\n",
       "</div>"
      ],
      "text/plain": [
       "           Productivity  Average Ticket Size\n",
       "BRANCH                                      \n",
       "ALANDURAI            28         26250.000000\n",
       "ALANGUDI              9         28888.888889"
      ]
     },
     "execution_count": 11,
     "metadata": {},
     "output_type": "execute_result"
    }
   ],
   "source": [
    "df2.head(2)"
   ]
  },
  {
   "cell_type": "code",
   "execution_count": 12,
   "metadata": {},
   "outputs": [
    {
     "name": "stderr",
     "output_type": "stream",
     "text": [
      "C:\\ProgramData\\Anaconda3\\lib\\site-packages\\ipykernel_launcher.py:1: SettingWithCopyWarning: \n",
      "A value is trying to be set on a copy of a slice from a DataFrame.\n",
      "Try using .loc[row_indexer,col_indexer] = value instead\n",
      "\n",
      "See the caveats in the documentation: http://pandas.pydata.org/pandas-docs/stable/indexing.html#indexing-view-versus-copy\n",
      "  \"\"\"Entry point for launching an IPython kernel.\n",
      "C:\\ProgramData\\Anaconda3\\lib\\site-packages\\ipykernel_launcher.py:2: SettingWithCopyWarning: \n",
      "A value is trying to be set on a copy of a slice from a DataFrame.\n",
      "Try using .loc[row_indexer,col_indexer] = value instead\n",
      "\n",
      "See the caveats in the documentation: http://pandas.pydata.org/pandas-docs/stable/indexing.html#indexing-view-versus-copy\n",
      "  \n"
     ]
    },
    {
     "data": {
      "text/html": [
       "<div>\n",
       "<style scoped>\n",
       "    .dataframe tbody tr th:only-of-type {\n",
       "        vertical-align: middle;\n",
       "    }\n",
       "\n",
       "    .dataframe tbody tr th {\n",
       "        vertical-align: top;\n",
       "    }\n",
       "\n",
       "    .dataframe thead th {\n",
       "        text-align: right;\n",
       "    }\n",
       "</style>\n",
       "<table border=\"1\" class=\"dataframe\">\n",
       "  <thead>\n",
       "    <tr style=\"text-align: right;\">\n",
       "      <th></th>\n",
       "      <th>b</th>\n",
       "    </tr>\n",
       "    <tr>\n",
       "      <th>BRANCH</th>\n",
       "      <th></th>\n",
       "    </tr>\n",
       "  </thead>\n",
       "  <tbody>\n",
       "    <tr>\n",
       "      <th>ALANDURAI</th>\n",
       "      <td>128.497979</td>\n",
       "    </tr>\n",
       "    <tr>\n",
       "      <th>ALANGUDI</th>\n",
       "      <td>121.583465</td>\n",
       "    </tr>\n",
       "  </tbody>\n",
       "</table>\n",
       "</div>"
      ],
      "text/plain": [
       "                    b\n",
       "BRANCH               \n",
       "ALANDURAI  128.497979\n",
       "ALANGUDI   121.583465"
      ]
     },
     "execution_count": 12,
     "metadata": {},
     "output_type": "execute_result"
    }
   ],
   "source": [
    "df1['a'] = df1['Inst_complete']-(df1['LoanAmount']-df1['Loanbalance'])/(df1['EWIAMT'])\n",
    "df1['b'] = df1['a']*30\n",
    "df5 = df1[['STATE','BRANCH','b']].groupby('BRANCH').mean()\n",
    "df5.head(2)"
   ]
  },
  {
   "cell_type": "code",
   "execution_count": 13,
   "metadata": {},
   "outputs": [],
   "source": [
    "# df2['Average DPD'] = df5['b']\n",
    "# df2.head(2)"
   ]
  },
  {
   "cell_type": "code",
   "execution_count": 14,
   "metadata": {
    "scrolled": false
   },
   "outputs": [
    {
     "data": {
      "text/html": [
       "<div>\n",
       "<style scoped>\n",
       "    .dataframe tbody tr th:only-of-type {\n",
       "        vertical-align: middle;\n",
       "    }\n",
       "\n",
       "    .dataframe tbody tr th {\n",
       "        vertical-align: top;\n",
       "    }\n",
       "\n",
       "    .dataframe thead th {\n",
       "        text-align: right;\n",
       "    }\n",
       "</style>\n",
       "<table border=\"1\" class=\"dataframe\">\n",
       "  <thead>\n",
       "    <tr style=\"text-align: right;\">\n",
       "      <th></th>\n",
       "      <th></th>\n",
       "      <th>Loanno</th>\n",
       "      <th>Client_no</th>\n",
       "      <th>LoanAmount</th>\n",
       "      <th>Loanbalance</th>\n",
       "      <th>Paidupto</th>\n",
       "      <th>Inst_complete</th>\n",
       "      <th>Centr</th>\n",
       "      <th>Group</th>\n",
       "      <th>LOAN_DATE</th>\n",
       "      <th>FIRSTINSTDT</th>\n",
       "      <th>INTEREST</th>\n",
       "      <th>INSTALLMENTS</th>\n",
       "      <th>EWIAMT</th>\n",
       "      <th>LOANTYPE</th>\n",
       "      <th>Loancycle</th>\n",
       "      <th>MMLBRANCH</th>\n",
       "      <th>a</th>\n",
       "      <th>b</th>\n",
       "    </tr>\n",
       "    <tr>\n",
       "      <th>STATE</th>\n",
       "      <th>BRANCH</th>\n",
       "      <th></th>\n",
       "      <th></th>\n",
       "      <th></th>\n",
       "      <th></th>\n",
       "      <th></th>\n",
       "      <th></th>\n",
       "      <th></th>\n",
       "      <th></th>\n",
       "      <th></th>\n",
       "      <th></th>\n",
       "      <th></th>\n",
       "      <th></th>\n",
       "      <th></th>\n",
       "      <th></th>\n",
       "      <th></th>\n",
       "      <th></th>\n",
       "      <th></th>\n",
       "      <th></th>\n",
       "    </tr>\n",
       "  </thead>\n",
       "  <tbody>\n",
       "    <tr>\n",
       "      <th rowspan=\"2\" valign=\"top\">GUJARAT</th>\n",
       "      <th>ANKLESHWAR</th>\n",
       "      <td>AKWR@481</td>\n",
       "      <td>1746@AKWR</td>\n",
       "      <td>20000</td>\n",
       "      <td>12337</td>\n",
       "      <td>2018-03-05</td>\n",
       "      <td>5</td>\n",
       "      <td>AKWR/Centre-45</td>\n",
       "      <td>AKWR/Centre-47/Group-1</td>\n",
       "      <td>2017-10-15</td>\n",
       "      <td>2017-11-06</td>\n",
       "      <td>22.8</td>\n",
       "      <td>12</td>\n",
       "      <td>1880</td>\n",
       "      <td>M</td>\n",
       "      <td>MM</td>\n",
       "      <td>ANKLESHWAR MML</td>\n",
       "      <td>0.923936</td>\n",
       "      <td>27.718085</td>\n",
       "    </tr>\n",
       "    <tr>\n",
       "      <th>BHAVNAGAR</th>\n",
       "      <td>BVNG@115</td>\n",
       "      <td>90@BVNG</td>\n",
       "      <td>20000</td>\n",
       "      <td>12322</td>\n",
       "      <td>2018-03-12</td>\n",
       "      <td>5</td>\n",
       "      <td>BVNG/Centre-2</td>\n",
       "      <td>BVNG/Centre-11/Group-1</td>\n",
       "      <td>2017-10-05</td>\n",
       "      <td>2017-11-13</td>\n",
       "      <td>22.8</td>\n",
       "      <td>12</td>\n",
       "      <td>1880</td>\n",
       "      <td>M</td>\n",
       "      <td>MM</td>\n",
       "      <td>BHAVNAGAR MML</td>\n",
       "      <td>0.915957</td>\n",
       "      <td>27.478723</td>\n",
       "    </tr>\n",
       "  </tbody>\n",
       "</table>\n",
       "</div>"
      ],
      "text/plain": [
       "                      Loanno  Client_no  LoanAmount  Loanbalance   Paidupto  \\\n",
       "STATE   BRANCH                                                                \n",
       "GUJARAT ANKLESHWAR  AKWR@481  1746@AKWR       20000        12337 2018-03-05   \n",
       "        BHAVNAGAR   BVNG@115    90@BVNG       20000        12322 2018-03-12   \n",
       "\n",
       "                    Inst_complete           Centr                   Group  \\\n",
       "STATE   BRANCH                                                              \n",
       "GUJARAT ANKLESHWAR              5  AKWR/Centre-45  AKWR/Centre-47/Group-1   \n",
       "        BHAVNAGAR               5   BVNG/Centre-2  BVNG/Centre-11/Group-1   \n",
       "\n",
       "                    LOAN_DATE FIRSTINSTDT  INTEREST  INSTALLMENTS  EWIAMT  \\\n",
       "STATE   BRANCH                                                              \n",
       "GUJARAT ANKLESHWAR 2017-10-15  2017-11-06      22.8            12    1880   \n",
       "        BHAVNAGAR  2017-10-05  2017-11-13      22.8            12    1880   \n",
       "\n",
       "                   LOANTYPE Loancycle       MMLBRANCH         a          b  \n",
       "STATE   BRANCH                                                              \n",
       "GUJARAT ANKLESHWAR        M        MM  ANKLESHWAR MML  0.923936  27.718085  \n",
       "        BHAVNAGAR         M        MM   BHAVNAGAR MML  0.915957  27.478723  "
      ]
     },
     "execution_count": 14,
     "metadata": {},
     "output_type": "execute_result"
    }
   ],
   "source": [
    "df6 = df1.groupby(['STATE','BRANCH']).agg(lambda x: x.value_counts().index[0])\n",
    "df6.head(2)"
   ]
  },
  {
   "cell_type": "code",
   "execution_count": 15,
   "metadata": {},
   "outputs": [],
   "source": [
    "df6.to_csv(r\"E:\\Muthoot POC\\Branch Data\\aa.csv\")\n",
    "df7 = pd.read_csv(r\"E:\\Muthoot POC\\Branch Data\\aa.csv\")"
   ]
  },
  {
   "cell_type": "code",
   "execution_count": 16,
   "metadata": {},
   "outputs": [],
   "source": [
    "df8 = df7[[\"STATE\",\"BRANCH\"]]\n",
    "df9 = pd.merge(df2, df8, on=['BRANCH'])"
   ]
  },
  {
   "cell_type": "code",
   "execution_count": 17,
   "metadata": {},
   "outputs": [
    {
     "data": {
      "text/html": [
       "<div>\n",
       "<style scoped>\n",
       "    .dataframe tbody tr th:only-of-type {\n",
       "        vertical-align: middle;\n",
       "    }\n",
       "\n",
       "    .dataframe tbody tr th {\n",
       "        vertical-align: top;\n",
       "    }\n",
       "\n",
       "    .dataframe thead th {\n",
       "        text-align: right;\n",
       "    }\n",
       "</style>\n",
       "<table border=\"1\" class=\"dataframe\">\n",
       "  <thead>\n",
       "    <tr style=\"text-align: right;\">\n",
       "      <th></th>\n",
       "      <th>BRANCH</th>\n",
       "      <th>Productivity</th>\n",
       "      <th>Average Ticket Size</th>\n",
       "      <th>STATE</th>\n",
       "    </tr>\n",
       "  </thead>\n",
       "  <tbody>\n",
       "    <tr>\n",
       "      <th>0</th>\n",
       "      <td>ALANDURAI</td>\n",
       "      <td>28</td>\n",
       "      <td>26250.000000</td>\n",
       "      <td>TAMILNADU</td>\n",
       "    </tr>\n",
       "    <tr>\n",
       "      <th>1</th>\n",
       "      <td>ALANGUDI</td>\n",
       "      <td>9</td>\n",
       "      <td>28888.888889</td>\n",
       "      <td>TAMILNADU</td>\n",
       "    </tr>\n",
       "  </tbody>\n",
       "</table>\n",
       "</div>"
      ],
      "text/plain": [
       "      BRANCH  Productivity  Average Ticket Size      STATE\n",
       "0  ALANDURAI            28         26250.000000  TAMILNADU\n",
       "1   ALANGUDI             9         28888.888889  TAMILNADU"
      ]
     },
     "execution_count": 17,
     "metadata": {},
     "output_type": "execute_result"
    }
   ],
   "source": [
    "df9.to_csv(r\"E:\\Muthoot POC\\Branch Data\\Aggregated_Data.csv\")\n",
    "df9.head(2)"
   ]
  },
  {
   "cell_type": "code",
   "execution_count": 18,
   "metadata": {},
   "outputs": [
    {
     "data": {
      "text/html": [
       "<div>\n",
       "<style scoped>\n",
       "    .dataframe tbody tr th:only-of-type {\n",
       "        vertical-align: middle;\n",
       "    }\n",
       "\n",
       "    .dataframe tbody tr th {\n",
       "        vertical-align: top;\n",
       "    }\n",
       "\n",
       "    .dataframe thead th {\n",
       "        text-align: right;\n",
       "    }\n",
       "</style>\n",
       "<table border=\"1\" class=\"dataframe\">\n",
       "  <thead>\n",
       "    <tr style=\"text-align: right;\">\n",
       "      <th></th>\n",
       "      <th>BRANCH</th>\n",
       "      <th>Productivity</th>\n",
       "      <th>Average Ticket Size</th>\n",
       "      <th>STATE</th>\n",
       "      <th>Total Loan Amount</th>\n",
       "    </tr>\n",
       "  </thead>\n",
       "  <tbody>\n",
       "    <tr>\n",
       "      <th>0</th>\n",
       "      <td>ALANDURAI</td>\n",
       "      <td>28</td>\n",
       "      <td>26250.000000</td>\n",
       "      <td>TAMILNADU</td>\n",
       "      <td>735000.0</td>\n",
       "    </tr>\n",
       "    <tr>\n",
       "      <th>1</th>\n",
       "      <td>ALANGUDI</td>\n",
       "      <td>9</td>\n",
       "      <td>28888.888889</td>\n",
       "      <td>TAMILNADU</td>\n",
       "      <td>260000.0</td>\n",
       "    </tr>\n",
       "  </tbody>\n",
       "</table>\n",
       "</div>"
      ],
      "text/plain": [
       "      BRANCH  Productivity  Average Ticket Size      STATE  Total Loan Amount\n",
       "0  ALANDURAI            28         26250.000000  TAMILNADU           735000.0\n",
       "1   ALANGUDI             9         28888.888889  TAMILNADU           260000.0"
      ]
     },
     "execution_count": 18,
     "metadata": {},
     "output_type": "execute_result"
    }
   ],
   "source": [
    "df9['Total Loan Amount'] = df9['Average Ticket Size']*df9['Productivity']\n",
    "df9.head(2)"
   ]
  },
  {
   "cell_type": "code",
   "execution_count": 19,
   "metadata": {},
   "outputs": [
    {
     "data": {
      "text/html": [
       "<div>\n",
       "<style scoped>\n",
       "    .dataframe tbody tr th:only-of-type {\n",
       "        vertical-align: middle;\n",
       "    }\n",
       "\n",
       "    .dataframe tbody tr th {\n",
       "        vertical-align: top;\n",
       "    }\n",
       "\n",
       "    .dataframe thead th {\n",
       "        text-align: right;\n",
       "    }\n",
       "</style>\n",
       "<table border=\"1\" class=\"dataframe\">\n",
       "  <thead>\n",
       "    <tr style=\"text-align: right;\">\n",
       "      <th></th>\n",
       "      <th>Productivity</th>\n",
       "      <th>Average Ticket Size</th>\n",
       "      <th>Total Loan Amount</th>\n",
       "    </tr>\n",
       "  </thead>\n",
       "  <tbody>\n",
       "    <tr>\n",
       "      <th>count</th>\n",
       "      <td>238.000</td>\n",
       "      <td>238.000</td>\n",
       "      <td>238.000</td>\n",
       "    </tr>\n",
       "    <tr>\n",
       "      <th>mean</th>\n",
       "      <td>63.021</td>\n",
       "      <td>27681.116</td>\n",
       "      <td>1508490.370</td>\n",
       "    </tr>\n",
       "    <tr>\n",
       "      <th>std</th>\n",
       "      <td>179.353</td>\n",
       "      <td>5077.148</td>\n",
       "      <td>4188575.940</td>\n",
       "    </tr>\n",
       "    <tr>\n",
       "      <th>min</th>\n",
       "      <td>1.000</td>\n",
       "      <td>15000.000</td>\n",
       "      <td>15000.000</td>\n",
       "    </tr>\n",
       "    <tr>\n",
       "      <th>25%</th>\n",
       "      <td>7.000</td>\n",
       "      <td>25000.000</td>\n",
       "      <td>190000.000</td>\n",
       "    </tr>\n",
       "    <tr>\n",
       "      <th>50%</th>\n",
       "      <td>16.000</td>\n",
       "      <td>27848.613</td>\n",
       "      <td>442500.000</td>\n",
       "    </tr>\n",
       "    <tr>\n",
       "      <th>75%</th>\n",
       "      <td>41.000</td>\n",
       "      <td>30350.962</td>\n",
       "      <td>1166250.000</td>\n",
       "    </tr>\n",
       "    <tr>\n",
       "      <th>max</th>\n",
       "      <td>1392.000</td>\n",
       "      <td>41551.724</td>\n",
       "      <td>34800000.000</td>\n",
       "    </tr>\n",
       "  </tbody>\n",
       "</table>\n",
       "</div>"
      ],
      "text/plain": [
       "       Productivity  Average Ticket Size  Total Loan Amount\n",
       "count       238.000              238.000            238.000\n",
       "mean         63.021            27681.116        1508490.370\n",
       "std         179.353             5077.148        4188575.940\n",
       "min           1.000            15000.000          15000.000\n",
       "25%           7.000            25000.000         190000.000\n",
       "50%          16.000            27848.613         442500.000\n",
       "75%          41.000            30350.962        1166250.000\n",
       "max        1392.000            41551.724       34800000.000"
      ]
     },
     "execution_count": 19,
     "metadata": {},
     "output_type": "execute_result"
    }
   ],
   "source": [
    "pd.set_option('display.float_format', lambda x: '%.3f' % x)\n",
    "df9.describe()"
   ]
  },
  {
   "cell_type": "code",
   "execution_count": 20,
   "metadata": {},
   "outputs": [
    {
     "name": "stderr",
     "output_type": "stream",
     "text": [
      "C:\\ProgramData\\Anaconda3\\lib\\site-packages\\ipykernel_launcher.py:1: SettingWithCopyWarning: \n",
      "A value is trying to be set on a copy of a slice from a DataFrame.\n",
      "Try using .loc[row_indexer,col_indexer] = value instead\n",
      "\n",
      "See the caveats in the documentation: http://pandas.pydata.org/pandas-docs/stable/indexing.html#indexing-view-versus-copy\n",
      "  \"\"\"Entry point for launching an IPython kernel.\n"
     ]
    },
    {
     "data": {
      "text/plain": [
       "0   2018-05-31\n",
       "1   2018-05-31\n",
       "Name: May, dtype: datetime64[ns]"
      ]
     },
     "execution_count": 20,
     "metadata": {},
     "output_type": "execute_result"
    }
   ],
   "source": [
    "df1['May'] = pd.Timestamp('2018-05-31 00:00:00')\n",
    "df1['May'].head(2)"
   ]
  },
  {
   "cell_type": "code",
   "execution_count": 21,
   "metadata": {},
   "outputs": [
    {
     "name": "stderr",
     "output_type": "stream",
     "text": [
      "C:\\ProgramData\\Anaconda3\\lib\\site-packages\\ipykernel_launcher.py:1: SettingWithCopyWarning: \n",
      "A value is trying to be set on a copy of a slice from a DataFrame.\n",
      "Try using .loc[row_indexer,col_indexer] = value instead\n",
      "\n",
      "See the caveats in the documentation: http://pandas.pydata.org/pandas-docs/stable/indexing.html#indexing-view-versus-copy\n",
      "  \"\"\"Entry point for launching an IPython kernel.\n"
     ]
    },
    {
     "data": {
      "text/plain": [
       "0   297 days\n",
       "1   297 days\n",
       "Name: DPD 1, dtype: timedelta64[ns]"
      ]
     },
     "execution_count": 21,
     "metadata": {},
     "output_type": "execute_result"
    }
   ],
   "source": [
    "df1['Paidupto_Month_Year'] = df1['Paidupto'].dt.to_period('M')\n",
    "df1['DPD 1'] = df1['May'] - df1['Paidupto']\n",
    "df1['DPD 1'].head(2)"
   ]
  },
  {
   "cell_type": "code",
   "execution_count": 22,
   "metadata": {
    "scrolled": true
   },
   "outputs": [],
   "source": [
    "df1['DPD 1'] = df1['DPD 1'].astype(str)\n",
    "df1['DPD 2'] = df1['DPD 1'].str.extract(r'(^[-0-9]{,8})')\n",
    "df1['DPD 2'] = df1['DPD 2'].astype(int)"
   ]
  },
  {
   "cell_type": "code",
   "execution_count": 23,
   "metadata": {},
   "outputs": [
    {
     "data": {
      "text/html": [
       "<div>\n",
       "<style scoped>\n",
       "    .dataframe tbody tr th:only-of-type {\n",
       "        vertical-align: middle;\n",
       "    }\n",
       "\n",
       "    .dataframe tbody tr th {\n",
       "        vertical-align: top;\n",
       "    }\n",
       "\n",
       "    .dataframe thead th {\n",
       "        text-align: right;\n",
       "    }\n",
       "</style>\n",
       "<table border=\"1\" class=\"dataframe\">\n",
       "  <thead>\n",
       "    <tr style=\"text-align: right;\">\n",
       "      <th></th>\n",
       "      <th>DPD 2</th>\n",
       "    </tr>\n",
       "    <tr>\n",
       "      <th>BRANCH</th>\n",
       "      <th></th>\n",
       "    </tr>\n",
       "  </thead>\n",
       "  <tbody>\n",
       "    <tr>\n",
       "      <th>ALANDURAI</th>\n",
       "      <td>79.893</td>\n",
       "    </tr>\n",
       "    <tr>\n",
       "      <th>ALANGUDI</th>\n",
       "      <td>93.778</td>\n",
       "    </tr>\n",
       "  </tbody>\n",
       "</table>\n",
       "</div>"
      ],
      "text/plain": [
       "           DPD 2\n",
       "BRANCH          \n",
       "ALANDURAI 79.893\n",
       "ALANGUDI  93.778"
      ]
     },
     "execution_count": 23,
     "metadata": {},
     "output_type": "execute_result"
    }
   ],
   "source": [
    "df11 = df1[['BRANCH','DPD 2']].groupby('BRANCH').mean()\n",
    "df11.head(2)"
   ]
  },
  {
   "cell_type": "code",
   "execution_count": 24,
   "metadata": {},
   "outputs": [],
   "source": [
    "df12 = pd.merge(df9, df11, on=['BRANCH'])"
   ]
  },
  {
   "cell_type": "code",
   "execution_count": 25,
   "metadata": {},
   "outputs": [
    {
     "data": {
      "text/html": [
       "<div>\n",
       "<style scoped>\n",
       "    .dataframe tbody tr th:only-of-type {\n",
       "        vertical-align: middle;\n",
       "    }\n",
       "\n",
       "    .dataframe tbody tr th {\n",
       "        vertical-align: top;\n",
       "    }\n",
       "\n",
       "    .dataframe thead th {\n",
       "        text-align: right;\n",
       "    }\n",
       "</style>\n",
       "<table border=\"1\" class=\"dataframe\">\n",
       "  <thead>\n",
       "    <tr style=\"text-align: right;\">\n",
       "      <th></th>\n",
       "      <th>Productivity</th>\n",
       "      <th>Average Ticket Size</th>\n",
       "      <th>Total Loan Amount</th>\n",
       "      <th>DPD 2</th>\n",
       "    </tr>\n",
       "  </thead>\n",
       "  <tbody>\n",
       "    <tr>\n",
       "      <th>count</th>\n",
       "      <td>238.000</td>\n",
       "      <td>238.000</td>\n",
       "      <td>238.000</td>\n",
       "      <td>238.000</td>\n",
       "    </tr>\n",
       "    <tr>\n",
       "      <th>mean</th>\n",
       "      <td>63.021</td>\n",
       "      <td>27681.116</td>\n",
       "      <td>1508490.370</td>\n",
       "      <td>94.135</td>\n",
       "    </tr>\n",
       "    <tr>\n",
       "      <th>std</th>\n",
       "      <td>179.353</td>\n",
       "      <td>5077.148</td>\n",
       "      <td>4188575.940</td>\n",
       "      <td>49.538</td>\n",
       "    </tr>\n",
       "    <tr>\n",
       "      <th>min</th>\n",
       "      <td>1.000</td>\n",
       "      <td>15000.000</td>\n",
       "      <td>15000.000</td>\n",
       "      <td>15.000</td>\n",
       "    </tr>\n",
       "    <tr>\n",
       "      <th>25%</th>\n",
       "      <td>7.000</td>\n",
       "      <td>25000.000</td>\n",
       "      <td>190000.000</td>\n",
       "      <td>75.167</td>\n",
       "    </tr>\n",
       "    <tr>\n",
       "      <th>50%</th>\n",
       "      <td>16.000</td>\n",
       "      <td>27848.613</td>\n",
       "      <td>442500.000</td>\n",
       "      <td>80.083</td>\n",
       "    </tr>\n",
       "    <tr>\n",
       "      <th>75%</th>\n",
       "      <td>41.000</td>\n",
       "      <td>30350.962</td>\n",
       "      <td>1166250.000</td>\n",
       "      <td>88.329</td>\n",
       "    </tr>\n",
       "    <tr>\n",
       "      <th>max</th>\n",
       "      <td>1392.000</td>\n",
       "      <td>41551.724</td>\n",
       "      <td>34800000.000</td>\n",
       "      <td>415.000</td>\n",
       "    </tr>\n",
       "  </tbody>\n",
       "</table>\n",
       "</div>"
      ],
      "text/plain": [
       "       Productivity  Average Ticket Size  Total Loan Amount   DPD 2\n",
       "count       238.000              238.000            238.000 238.000\n",
       "mean         63.021            27681.116        1508490.370  94.135\n",
       "std         179.353             5077.148        4188575.940  49.538\n",
       "min           1.000            15000.000          15000.000  15.000\n",
       "25%           7.000            25000.000         190000.000  75.167\n",
       "50%          16.000            27848.613         442500.000  80.083\n",
       "75%          41.000            30350.962        1166250.000  88.329\n",
       "max        1392.000            41551.724       34800000.000 415.000"
      ]
     },
     "execution_count": 25,
     "metadata": {},
     "output_type": "execute_result"
    }
   ],
   "source": [
    "df12.describe()"
   ]
  },
  {
   "cell_type": "code",
   "execution_count": 26,
   "metadata": {},
   "outputs": [
    {
     "data": {
      "text/html": [
       "<div>\n",
       "<style scoped>\n",
       "    .dataframe tbody tr th:only-of-type {\n",
       "        vertical-align: middle;\n",
       "    }\n",
       "\n",
       "    .dataframe tbody tr th {\n",
       "        vertical-align: top;\n",
       "    }\n",
       "\n",
       "    .dataframe thead th {\n",
       "        text-align: right;\n",
       "    }\n",
       "</style>\n",
       "<table border=\"1\" class=\"dataframe\">\n",
       "  <thead>\n",
       "    <tr style=\"text-align: right;\">\n",
       "      <th></th>\n",
       "      <th>BRANCH</th>\n",
       "      <th>Productivity</th>\n",
       "      <th>Average Ticket Size</th>\n",
       "      <th>STATE</th>\n",
       "      <th>Total Loan Amount</th>\n",
       "      <th>DPD 2</th>\n",
       "      <th>State Type</th>\n",
       "    </tr>\n",
       "  </thead>\n",
       "  <tbody>\n",
       "    <tr>\n",
       "      <th>0</th>\n",
       "      <td>ALANDURAI</td>\n",
       "      <td>28</td>\n",
       "      <td>26250.000</td>\n",
       "      <td>TAMILNADU</td>\n",
       "      <td>735000.000</td>\n",
       "      <td>79.893</td>\n",
       "      <td>Growing</td>\n",
       "    </tr>\n",
       "    <tr>\n",
       "      <th>1</th>\n",
       "      <td>ALANGUDI</td>\n",
       "      <td>9</td>\n",
       "      <td>28888.889</td>\n",
       "      <td>TAMILNADU</td>\n",
       "      <td>260000.000</td>\n",
       "      <td>93.778</td>\n",
       "      <td>Growing</td>\n",
       "    </tr>\n",
       "    <tr>\n",
       "      <th>2</th>\n",
       "      <td>ALANGULAM-OLD BUS STAND</td>\n",
       "      <td>13</td>\n",
       "      <td>28076.923</td>\n",
       "      <td>TAMILNADU</td>\n",
       "      <td>365000.000</td>\n",
       "      <td>61.846</td>\n",
       "      <td>Growing</td>\n",
       "    </tr>\n",
       "    <tr>\n",
       "      <th>3</th>\n",
       "      <td>ALWARTHIRUNAGARI</td>\n",
       "      <td>13</td>\n",
       "      <td>20000.000</td>\n",
       "      <td>TAMILNADU</td>\n",
       "      <td>260000.000</td>\n",
       "      <td>152.923</td>\n",
       "      <td>Growing</td>\n",
       "    </tr>\n",
       "    <tr>\n",
       "      <th>4</th>\n",
       "      <td>AMBASAMUDRAM</td>\n",
       "      <td>12</td>\n",
       "      <td>30000.000</td>\n",
       "      <td>TAMILNADU</td>\n",
       "      <td>360000.000</td>\n",
       "      <td>80.167</td>\n",
       "      <td>Growing</td>\n",
       "    </tr>\n",
       "    <tr>\n",
       "      <th>5</th>\n",
       "      <td>ANANDPUR SAHIB GL</td>\n",
       "      <td>26</td>\n",
       "      <td>25000.000</td>\n",
       "      <td>PUNJAB</td>\n",
       "      <td>650000.000</td>\n",
       "      <td>80.769</td>\n",
       "      <td>Growing</td>\n",
       "    </tr>\n",
       "    <tr>\n",
       "      <th>6</th>\n",
       "      <td>ANDHIYUR</td>\n",
       "      <td>51</td>\n",
       "      <td>30490.196</td>\n",
       "      <td>TAMILNADU</td>\n",
       "      <td>1555000.000</td>\n",
       "      <td>83.784</td>\n",
       "      <td>Matured</td>\n",
       "    </tr>\n",
       "    <tr>\n",
       "      <th>7</th>\n",
       "      <td>ANDIMADAM</td>\n",
       "      <td>40</td>\n",
       "      <td>33375.000</td>\n",
       "      <td>TAMILNADU</td>\n",
       "      <td>1335000.000</td>\n",
       "      <td>81.025</td>\n",
       "      <td>Matured</td>\n",
       "    </tr>\n",
       "  </tbody>\n",
       "</table>\n",
       "</div>"
      ],
      "text/plain": [
       "                    BRANCH  Productivity  Average Ticket Size      STATE  \\\n",
       "0                ALANDURAI            28            26250.000  TAMILNADU   \n",
       "1                 ALANGUDI             9            28888.889  TAMILNADU   \n",
       "2  ALANGULAM-OLD BUS STAND            13            28076.923  TAMILNADU   \n",
       "3         ALWARTHIRUNAGARI            13            20000.000  TAMILNADU   \n",
       "4             AMBASAMUDRAM            12            30000.000  TAMILNADU   \n",
       "5        ANANDPUR SAHIB GL            26            25000.000     PUNJAB   \n",
       "6                 ANDHIYUR            51            30490.196  TAMILNADU   \n",
       "7                ANDIMADAM            40            33375.000  TAMILNADU   \n",
       "\n",
       "   Total Loan Amount   DPD 2 State Type  \n",
       "0         735000.000  79.893    Growing  \n",
       "1         260000.000  93.778    Growing  \n",
       "2         365000.000  61.846    Growing  \n",
       "3         260000.000 152.923    Growing  \n",
       "4         360000.000  80.167    Growing  \n",
       "5         650000.000  80.769    Growing  \n",
       "6        1555000.000  83.784    Matured  \n",
       "7        1335000.000  81.025    Matured  "
      ]
     },
     "execution_count": 26,
     "metadata": {},
     "output_type": "execute_result"
    }
   ],
   "source": [
    "df12['State Type'] = np.where(df12['Total Loan Amount'] > df12['Total Loan Amount'].quantile(q=0.66), 'Matured', \n",
    "         (np.where(df12['Total Loan Amount'] < df12['Total Loan Amount'].quantile(q=0.33), 'New', 'Growing')))\n",
    "\n",
    "df12.head(8)"
   ]
  },
  {
   "cell_type": "code",
   "execution_count": 27,
   "metadata": {},
   "outputs": [
    {
     "data": {
      "text/plain": [
       "771300.0000000002"
      ]
     },
     "execution_count": 27,
     "metadata": {},
     "output_type": "execute_result"
    }
   ],
   "source": [
    "df12['Total Loan Amount'].quantile(q=0.66)"
   ]
  },
  {
   "cell_type": "code",
   "execution_count": 28,
   "metadata": {},
   "outputs": [],
   "source": [
    "df12['DPD Class'] = np.where(df12['DPD 2']>90,1,0)"
   ]
  },
  {
   "cell_type": "code",
   "execution_count": 29,
   "metadata": {},
   "outputs": [
    {
     "data": {
      "text/html": [
       "<div>\n",
       "<style scoped>\n",
       "    .dataframe tbody tr th:only-of-type {\n",
       "        vertical-align: middle;\n",
       "    }\n",
       "\n",
       "    .dataframe tbody tr th {\n",
       "        vertical-align: top;\n",
       "    }\n",
       "\n",
       "    .dataframe thead th {\n",
       "        text-align: right;\n",
       "    }\n",
       "</style>\n",
       "<table border=\"1\" class=\"dataframe\">\n",
       "  <thead>\n",
       "    <tr style=\"text-align: right;\">\n",
       "      <th></th>\n",
       "      <th>BRANCH</th>\n",
       "      <th>Productivity</th>\n",
       "      <th>Average Ticket Size</th>\n",
       "      <th>STATE</th>\n",
       "      <th>Total Loan Amount</th>\n",
       "      <th>DPD 2</th>\n",
       "      <th>State Type</th>\n",
       "      <th>DPD Class</th>\n",
       "    </tr>\n",
       "  </thead>\n",
       "  <tbody>\n",
       "    <tr>\n",
       "      <th>0</th>\n",
       "      <td>ALANDURAI</td>\n",
       "      <td>28</td>\n",
       "      <td>26250.000</td>\n",
       "      <td>TAMILNADU</td>\n",
       "      <td>735000.000</td>\n",
       "      <td>79.893</td>\n",
       "      <td>Growing</td>\n",
       "      <td>0</td>\n",
       "    </tr>\n",
       "    <tr>\n",
       "      <th>1</th>\n",
       "      <td>ALANGUDI</td>\n",
       "      <td>9</td>\n",
       "      <td>28888.889</td>\n",
       "      <td>TAMILNADU</td>\n",
       "      <td>260000.000</td>\n",
       "      <td>93.778</td>\n",
       "      <td>Growing</td>\n",
       "      <td>1</td>\n",
       "    </tr>\n",
       "    <tr>\n",
       "      <th>2</th>\n",
       "      <td>ALANGULAM-OLD BUS STAND</td>\n",
       "      <td>13</td>\n",
       "      <td>28076.923</td>\n",
       "      <td>TAMILNADU</td>\n",
       "      <td>365000.000</td>\n",
       "      <td>61.846</td>\n",
       "      <td>Growing</td>\n",
       "      <td>0</td>\n",
       "    </tr>\n",
       "    <tr>\n",
       "      <th>3</th>\n",
       "      <td>ALWARTHIRUNAGARI</td>\n",
       "      <td>13</td>\n",
       "      <td>20000.000</td>\n",
       "      <td>TAMILNADU</td>\n",
       "      <td>260000.000</td>\n",
       "      <td>152.923</td>\n",
       "      <td>Growing</td>\n",
       "      <td>1</td>\n",
       "    </tr>\n",
       "    <tr>\n",
       "      <th>4</th>\n",
       "      <td>AMBASAMUDRAM</td>\n",
       "      <td>12</td>\n",
       "      <td>30000.000</td>\n",
       "      <td>TAMILNADU</td>\n",
       "      <td>360000.000</td>\n",
       "      <td>80.167</td>\n",
       "      <td>Growing</td>\n",
       "      <td>0</td>\n",
       "    </tr>\n",
       "  </tbody>\n",
       "</table>\n",
       "</div>"
      ],
      "text/plain": [
       "                    BRANCH  Productivity  Average Ticket Size      STATE  \\\n",
       "0                ALANDURAI            28            26250.000  TAMILNADU   \n",
       "1                 ALANGUDI             9            28888.889  TAMILNADU   \n",
       "2  ALANGULAM-OLD BUS STAND            13            28076.923  TAMILNADU   \n",
       "3         ALWARTHIRUNAGARI            13            20000.000  TAMILNADU   \n",
       "4             AMBASAMUDRAM            12            30000.000  TAMILNADU   \n",
       "\n",
       "   Total Loan Amount   DPD 2 State Type  DPD Class  \n",
       "0         735000.000  79.893    Growing          0  \n",
       "1         260000.000  93.778    Growing          1  \n",
       "2         365000.000  61.846    Growing          0  \n",
       "3         260000.000 152.923    Growing          1  \n",
       "4         360000.000  80.167    Growing          0  "
      ]
     },
     "execution_count": 29,
     "metadata": {},
     "output_type": "execute_result"
    }
   ],
   "source": [
    "df_branch_wise = df12\n",
    "df12.to_csv(r\"E:\\Muthoot POC\\Branch Data\\Final.csv\")\n",
    "df_branch_wise.head()"
   ]
  },
  {
   "cell_type": "markdown",
   "metadata": {},
   "source": [
    "# Branch-Wise Histograms - Productivity, Average Ticket Size, Total Loan Amount and Average DPD"
   ]
  },
  {
   "cell_type": "code",
   "execution_count": 30,
   "metadata": {},
   "outputs": [
    {
     "data": {
      "image/png": "[encoded data removed]",
      "text/plain": [
       "<Figure size 432x288 with 1 Axes>"
      ]
     },
     "metadata": {},
     "output_type": "display_data"
    }
   ],
   "source": [
    "# Productivity per branch\n",
    "\n",
    "plt.hist(df_branch_wise['Productivity'])\n",
    "plt.show()"
   ]
  },
  {
   "cell_type": "code",
   "execution_count": 31,
   "metadata": {},
   "outputs": [
    {
     "data": {
      "image/png": "[encoded data removed]",
      "text/plain": [
       "<Figure size 432x288 with 1 Axes>"
      ]
     },
     "metadata": {},
     "output_type": "display_data"
    }
   ],
   "source": [
    "# Average ticket size per branch\n",
    "\n",
    "plt.hist(df_branch_wise['Average Ticket Size'])\n",
    "plt.show()"
   ]
  },
  {
   "cell_type": "code",
   "execution_count": 32,
   "metadata": {},
   "outputs": [
    {
     "data": {
      "image/png": "[encoded data removed]",
      "text/plain": [
       "<Figure size 432x288 with 1 Axes>"
      ]
     },
     "metadata": {},
     "output_type": "display_data"
    }
   ],
   "source": [
    "# Total loan amount per branch\n",
    "\n",
    "plt.hist(df_branch_wise['Total Loan Amount'])\n",
    "\n",
    "plt.show()"
   ]
  },
  {
   "cell_type": "code",
   "execution_count": 33,
   "metadata": {},
   "outputs": [
    {
     "data": {
      "image/png": "[encoded data removed]",
      "text/plain": [
       "<Figure size 432x288 with 1 Axes>"
      ]
     },
     "metadata": {},
     "output_type": "display_data"
    }
   ],
   "source": [
    "# Average DPD Class per branch\n",
    "\n",
    "plt.hist(df_branch_wise['DPD 2'])\n",
    "plt.show()"
   ]
  },
  {
   "cell_type": "markdown",
   "metadata": {},
   "source": [
    "# Loan-Wise Histograms - Productivity, Average Ticket Size, Total Loan Amount and Average DPD"
   ]
  },
  {
   "cell_type": "code",
   "execution_count": 34,
   "metadata": {},
   "outputs": [],
   "source": [
    "# Productivity = All loans are active, so the graph would be a rectangle"
   ]
  },
  {
   "cell_type": "code",
   "execution_count": 35,
   "metadata": {},
   "outputs": [
    {
     "data": {
      "image/png": "[encoded data removed]",
      "text/plain": [
       "<Figure size 432x288 with 1 Axes>"
      ]
     },
     "metadata": {},
     "output_type": "display_data"
    }
   ],
   "source": [
    "# Loan Amount per loan\n",
    "\n",
    "plt.hist(df_loan_wise['LoanAmount'])\n",
    "plt.show()"
   ]
  },
  {
   "cell_type": "code",
   "execution_count": 36,
   "metadata": {},
   "outputs": [
    {
     "data": {
      "image/png": "[encoded data removed]",
      "text/plain": [
       "<Figure size 432x288 with 1 Axes>"
      ]
     },
     "metadata": {},
     "output_type": "display_data"
    }
   ],
   "source": [
    "# DPD per loan \n",
    "\n",
    "plt.hist(df_loan_wise['DPD 2'])\n",
    "plt.show()"
   ]
  },
  {
   "cell_type": "markdown",
   "metadata": {},
   "source": [
    "# Loan Wise Data"
   ]
  },
  {
   "cell_type": "code",
   "execution_count": 37,
   "metadata": {
    "scrolled": true
   },
   "outputs": [
    {
     "data": {
      "text/html": [
       "<div>\n",
       "<style scoped>\n",
       "    .dataframe tbody tr th:only-of-type {\n",
       "        vertical-align: middle;\n",
       "    }\n",
       "\n",
       "    .dataframe tbody tr th {\n",
       "        vertical-align: top;\n",
       "    }\n",
       "\n",
       "    .dataframe thead th {\n",
       "        text-align: right;\n",
       "    }\n",
       "</style>\n",
       "<table border=\"1\" class=\"dataframe\">\n",
       "  <thead>\n",
       "    <tr style=\"text-align: right;\">\n",
       "      <th></th>\n",
       "      <th>Loanno</th>\n",
       "      <th>Client_no</th>\n",
       "      <th>LoanAmount</th>\n",
       "      <th>Loanbalance</th>\n",
       "      <th>Paidupto</th>\n",
       "      <th>Inst_complete</th>\n",
       "      <th>Centr</th>\n",
       "      <th>Group</th>\n",
       "      <th>LOAN_DATE</th>\n",
       "      <th>FIRSTINSTDT</th>\n",
       "      <th>...</th>\n",
       "      <th>BRANCH</th>\n",
       "      <th>MMLBRANCH</th>\n",
       "      <th>STATE</th>\n",
       "      <th>a</th>\n",
       "      <th>b</th>\n",
       "      <th>May</th>\n",
       "      <th>Paidupto_Month_Year</th>\n",
       "      <th>DPD 1</th>\n",
       "      <th>DPD 2</th>\n",
       "      <th>DPD Class</th>\n",
       "    </tr>\n",
       "  </thead>\n",
       "  <tbody>\n",
       "    <tr>\n",
       "      <th>0</th>\n",
       "      <td>URPK@61</td>\n",
       "      <td>134@URPK</td>\n",
       "      <td>20000</td>\n",
       "      <td>7231</td>\n",
       "      <td>2017-08-07</td>\n",
       "      <td>8</td>\n",
       "      <td>URPK/Centre-10</td>\n",
       "      <td>URPK/Centre-10/Group-1</td>\n",
       "      <td>2016-12-02</td>\n",
       "      <td>2017-01-02</td>\n",
       "      <td>...</td>\n",
       "      <td>URAPAKKAM</td>\n",
       "      <td>KANCHIPURAM MML</td>\n",
       "      <td>TAMILNADU</td>\n",
       "      <td>1.233</td>\n",
       "      <td>36.995</td>\n",
       "      <td>2018-05-31</td>\n",
       "      <td>2017-08</td>\n",
       "      <td>297 days 00:00:00.000000000</td>\n",
       "      <td>297</td>\n",
       "      <td>1</td>\n",
       "    </tr>\n",
       "    <tr>\n",
       "      <th>1</th>\n",
       "      <td>URPK@62</td>\n",
       "      <td>122@URPK</td>\n",
       "      <td>20000</td>\n",
       "      <td>7231</td>\n",
       "      <td>2017-08-07</td>\n",
       "      <td>8</td>\n",
       "      <td>URPK/Centre-10</td>\n",
       "      <td>URPK/Centre-10/Group-1</td>\n",
       "      <td>2016-12-02</td>\n",
       "      <td>2017-01-02</td>\n",
       "      <td>...</td>\n",
       "      <td>URAPAKKAM</td>\n",
       "      <td>KANCHIPURAM MML</td>\n",
       "      <td>TAMILNADU</td>\n",
       "      <td>1.233</td>\n",
       "      <td>36.995</td>\n",
       "      <td>2018-05-31</td>\n",
       "      <td>2017-08</td>\n",
       "      <td>297 days 00:00:00.000000000</td>\n",
       "      <td>297</td>\n",
       "      <td>1</td>\n",
       "    </tr>\n",
       "  </tbody>\n",
       "</table>\n",
       "<p>2 rows × 25 columns</p>\n",
       "</div>"
      ],
      "text/plain": [
       "    Loanno Client_no  LoanAmount  Loanbalance   Paidupto  Inst_complete  \\\n",
       "0  URPK@61  134@URPK       20000         7231 2017-08-07              8   \n",
       "1  URPK@62  122@URPK       20000         7231 2017-08-07              8   \n",
       "\n",
       "            Centr                   Group  LOAN_DATE FIRSTINSTDT    ...      \\\n",
       "0  URPK/Centre-10  URPK/Centre-10/Group-1 2016-12-02  2017-01-02    ...       \n",
       "1  URPK/Centre-10  URPK/Centre-10/Group-1 2016-12-02  2017-01-02    ...       \n",
       "\n",
       "      BRANCH        MMLBRANCH      STATE     a      b        May  \\\n",
       "0  URAPAKKAM  KANCHIPURAM MML  TAMILNADU 1.233 36.995 2018-05-31   \n",
       "1  URAPAKKAM  KANCHIPURAM MML  TAMILNADU 1.233 36.995 2018-05-31   \n",
       "\n",
       "  Paidupto_Month_Year                        DPD 1  DPD 2  DPD Class  \n",
       "0             2017-08  297 days 00:00:00.000000000    297          1  \n",
       "1             2017-08  297 days 00:00:00.000000000    297          1  \n",
       "\n",
       "[2 rows x 25 columns]"
      ]
     },
     "execution_count": 37,
     "metadata": {},
     "output_type": "execute_result"
    }
   ],
   "source": [
    "df_loan_wise['DPD Class'] = np.where(df_loan_wise['DPD 2'] > 90, 1, 0)\n",
    "df_loan_wise.head(2)"
   ]
  },
  {
   "cell_type": "code",
   "execution_count": 38,
   "metadata": {},
   "outputs": [],
   "source": [
    "df55 = df1[['BRANCH','DPD Class']].groupby('BRANCH').sum()"
   ]
  },
  {
   "cell_type": "code",
   "execution_count": 39,
   "metadata": {},
   "outputs": [
    {
     "data": {
      "text/html": [
       "<div>\n",
       "<style scoped>\n",
       "    .dataframe tbody tr th:only-of-type {\n",
       "        vertical-align: middle;\n",
       "    }\n",
       "\n",
       "    .dataframe tbody tr th {\n",
       "        vertical-align: top;\n",
       "    }\n",
       "\n",
       "    .dataframe thead th {\n",
       "        text-align: right;\n",
       "    }\n",
       "</style>\n",
       "<table border=\"1\" class=\"dataframe\">\n",
       "  <thead>\n",
       "    <tr style=\"text-align: right;\">\n",
       "      <th></th>\n",
       "      <th>DPD Class</th>\n",
       "    </tr>\n",
       "    <tr>\n",
       "      <th>BRANCH</th>\n",
       "      <th></th>\n",
       "    </tr>\n",
       "  </thead>\n",
       "  <tbody>\n",
       "    <tr>\n",
       "      <th>ALANDURAI</th>\n",
       "      <td>0</td>\n",
       "    </tr>\n",
       "    <tr>\n",
       "      <th>ALANGUDI</th>\n",
       "      <td>1</td>\n",
       "    </tr>\n",
       "    <tr>\n",
       "      <th>ALANGULAM-OLD BUS STAND</th>\n",
       "      <td>0</td>\n",
       "    </tr>\n",
       "    <tr>\n",
       "      <th>ALWARTHIRUNAGARI</th>\n",
       "      <td>4</td>\n",
       "    </tr>\n",
       "    <tr>\n",
       "      <th>AMBASAMUDRAM</th>\n",
       "      <td>0</td>\n",
       "    </tr>\n",
       "  </tbody>\n",
       "</table>\n",
       "</div>"
      ],
      "text/plain": [
       "                         DPD Class\n",
       "BRANCH                            \n",
       "ALANDURAI                        0\n",
       "ALANGUDI                         1\n",
       "ALANGULAM-OLD BUS STAND          0\n",
       "ALWARTHIRUNAGARI                 4\n",
       "AMBASAMUDRAM                     0"
      ]
     },
     "execution_count": 39,
     "metadata": {},
     "output_type": "execute_result"
    }
   ],
   "source": [
    "df55.head()"
   ]
  },
  {
   "cell_type": "code",
   "execution_count": 40,
   "metadata": {},
   "outputs": [],
   "source": [
    "df55['DPD Counts'] = df55['DPD Class'].apply(lambda x: int(x))"
   ]
  },
  {
   "cell_type": "code",
   "execution_count": 41,
   "metadata": {},
   "outputs": [],
   "source": [
    "df55.to_csv(r'E:\\Muthoot POC\\Branch Data\\bb.csv')\n",
    "df56 = pd.read_csv(r'E:\\Muthoot POC\\Branch Data\\bb.csv')"
   ]
  },
  {
   "cell_type": "code",
   "execution_count": 42,
   "metadata": {},
   "outputs": [
    {
     "data": {
      "text/html": [
       "<div>\n",
       "<style scoped>\n",
       "    .dataframe tbody tr th:only-of-type {\n",
       "        vertical-align: middle;\n",
       "    }\n",
       "\n",
       "    .dataframe tbody tr th {\n",
       "        vertical-align: top;\n",
       "    }\n",
       "\n",
       "    .dataframe thead th {\n",
       "        text-align: right;\n",
       "    }\n",
       "</style>\n",
       "<table border=\"1\" class=\"dataframe\">\n",
       "  <thead>\n",
       "    <tr style=\"text-align: right;\">\n",
       "      <th></th>\n",
       "      <th>BRANCH</th>\n",
       "      <th>Productivity</th>\n",
       "      <th>Average Ticket Size</th>\n",
       "      <th>STATE</th>\n",
       "      <th>Total Loan Amount</th>\n",
       "      <th>DPD 2</th>\n",
       "      <th>State Type</th>\n",
       "      <th>DPD Class</th>\n",
       "    </tr>\n",
       "  </thead>\n",
       "  <tbody>\n",
       "    <tr>\n",
       "      <th>0</th>\n",
       "      <td>ALANDURAI</td>\n",
       "      <td>28</td>\n",
       "      <td>26250.000</td>\n",
       "      <td>TAMILNADU</td>\n",
       "      <td>735000.000</td>\n",
       "      <td>79.893</td>\n",
       "      <td>Growing</td>\n",
       "      <td>0</td>\n",
       "    </tr>\n",
       "    <tr>\n",
       "      <th>1</th>\n",
       "      <td>ALANGUDI</td>\n",
       "      <td>9</td>\n",
       "      <td>28888.889</td>\n",
       "      <td>TAMILNADU</td>\n",
       "      <td>260000.000</td>\n",
       "      <td>93.778</td>\n",
       "      <td>Growing</td>\n",
       "      <td>1</td>\n",
       "    </tr>\n",
       "    <tr>\n",
       "      <th>2</th>\n",
       "      <td>ALANGULAM-OLD BUS STAND</td>\n",
       "      <td>13</td>\n",
       "      <td>28076.923</td>\n",
       "      <td>TAMILNADU</td>\n",
       "      <td>365000.000</td>\n",
       "      <td>61.846</td>\n",
       "      <td>Growing</td>\n",
       "      <td>0</td>\n",
       "    </tr>\n",
       "    <tr>\n",
       "      <th>3</th>\n",
       "      <td>ALWARTHIRUNAGARI</td>\n",
       "      <td>13</td>\n",
       "      <td>20000.000</td>\n",
       "      <td>TAMILNADU</td>\n",
       "      <td>260000.000</td>\n",
       "      <td>152.923</td>\n",
       "      <td>Growing</td>\n",
       "      <td>1</td>\n",
       "    </tr>\n",
       "    <tr>\n",
       "      <th>4</th>\n",
       "      <td>AMBASAMUDRAM</td>\n",
       "      <td>12</td>\n",
       "      <td>30000.000</td>\n",
       "      <td>TAMILNADU</td>\n",
       "      <td>360000.000</td>\n",
       "      <td>80.167</td>\n",
       "      <td>Growing</td>\n",
       "      <td>0</td>\n",
       "    </tr>\n",
       "  </tbody>\n",
       "</table>\n",
       "</div>"
      ],
      "text/plain": [
       "                    BRANCH  Productivity  Average Ticket Size      STATE  \\\n",
       "0                ALANDURAI            28            26250.000  TAMILNADU   \n",
       "1                 ALANGUDI             9            28888.889  TAMILNADU   \n",
       "2  ALANGULAM-OLD BUS STAND            13            28076.923  TAMILNADU   \n",
       "3         ALWARTHIRUNAGARI            13            20000.000  TAMILNADU   \n",
       "4             AMBASAMUDRAM            12            30000.000  TAMILNADU   \n",
       "\n",
       "   Total Loan Amount   DPD 2 State Type  DPD Class  \n",
       "0         735000.000  79.893    Growing          0  \n",
       "1         260000.000  93.778    Growing          1  \n",
       "2         365000.000  61.846    Growing          0  \n",
       "3         260000.000 152.923    Growing          1  \n",
       "4         360000.000  80.167    Growing          0  "
      ]
     },
     "execution_count": 42,
     "metadata": {},
     "output_type": "execute_result"
    }
   ],
   "source": [
    "df_branch_wise.head()"
   ]
  },
  {
   "cell_type": "code",
   "execution_count": 43,
   "metadata": {},
   "outputs": [],
   "source": [
    "df_branch_wise = pd.merge(df_branch_wise, df56, on=['BRANCH'])"
   ]
  },
  {
   "cell_type": "code",
   "execution_count": 44,
   "metadata": {},
   "outputs": [],
   "source": [
    "try:\n",
    "    df_branch_wise.drop('DPD Class_x',axis=1,inplace=True)\n",
    "except:\n",
    "    pass\n",
    "try:\n",
    "    df_branch_wise.drop('DPD Class_y',axis=1,inplace=True)\n",
    "except:\n",
    "    pass"
   ]
  },
  {
   "cell_type": "code",
   "execution_count": 45,
   "metadata": {},
   "outputs": [
    {
     "data": {
      "text/html": [
       "<div>\n",
       "<style scoped>\n",
       "    .dataframe tbody tr th:only-of-type {\n",
       "        vertical-align: middle;\n",
       "    }\n",
       "\n",
       "    .dataframe tbody tr th {\n",
       "        vertical-align: top;\n",
       "    }\n",
       "\n",
       "    .dataframe thead th {\n",
       "        text-align: right;\n",
       "    }\n",
       "</style>\n",
       "<table border=\"1\" class=\"dataframe\">\n",
       "  <thead>\n",
       "    <tr style=\"text-align: right;\">\n",
       "      <th></th>\n",
       "      <th>BRANCH</th>\n",
       "      <th>Productivity</th>\n",
       "      <th>Average Ticket Size</th>\n",
       "      <th>STATE</th>\n",
       "      <th>Total Loan Amount</th>\n",
       "      <th>DPD 2</th>\n",
       "      <th>State Type</th>\n",
       "      <th>DPD Counts</th>\n",
       "    </tr>\n",
       "  </thead>\n",
       "  <tbody>\n",
       "    <tr>\n",
       "      <th>0</th>\n",
       "      <td>ALANDURAI</td>\n",
       "      <td>28</td>\n",
       "      <td>26250.000</td>\n",
       "      <td>TAMILNADU</td>\n",
       "      <td>735000.000</td>\n",
       "      <td>79.893</td>\n",
       "      <td>Growing</td>\n",
       "      <td>0</td>\n",
       "    </tr>\n",
       "    <tr>\n",
       "      <th>1</th>\n",
       "      <td>ALANGUDI</td>\n",
       "      <td>9</td>\n",
       "      <td>28888.889</td>\n",
       "      <td>TAMILNADU</td>\n",
       "      <td>260000.000</td>\n",
       "      <td>93.778</td>\n",
       "      <td>Growing</td>\n",
       "      <td>1</td>\n",
       "    </tr>\n",
       "    <tr>\n",
       "      <th>2</th>\n",
       "      <td>ALANGULAM-OLD BUS STAND</td>\n",
       "      <td>13</td>\n",
       "      <td>28076.923</td>\n",
       "      <td>TAMILNADU</td>\n",
       "      <td>365000.000</td>\n",
       "      <td>61.846</td>\n",
       "      <td>Growing</td>\n",
       "      <td>0</td>\n",
       "    </tr>\n",
       "    <tr>\n",
       "      <th>3</th>\n",
       "      <td>ALWARTHIRUNAGARI</td>\n",
       "      <td>13</td>\n",
       "      <td>20000.000</td>\n",
       "      <td>TAMILNADU</td>\n",
       "      <td>260000.000</td>\n",
       "      <td>152.923</td>\n",
       "      <td>Growing</td>\n",
       "      <td>4</td>\n",
       "    </tr>\n",
       "    <tr>\n",
       "      <th>4</th>\n",
       "      <td>AMBASAMUDRAM</td>\n",
       "      <td>12</td>\n",
       "      <td>30000.000</td>\n",
       "      <td>TAMILNADU</td>\n",
       "      <td>360000.000</td>\n",
       "      <td>80.167</td>\n",
       "      <td>Growing</td>\n",
       "      <td>0</td>\n",
       "    </tr>\n",
       "  </tbody>\n",
       "</table>\n",
       "</div>"
      ],
      "text/plain": [
       "                    BRANCH  Productivity  Average Ticket Size      STATE  \\\n",
       "0                ALANDURAI            28            26250.000  TAMILNADU   \n",
       "1                 ALANGUDI             9            28888.889  TAMILNADU   \n",
       "2  ALANGULAM-OLD BUS STAND            13            28076.923  TAMILNADU   \n",
       "3         ALWARTHIRUNAGARI            13            20000.000  TAMILNADU   \n",
       "4             AMBASAMUDRAM            12            30000.000  TAMILNADU   \n",
       "\n",
       "   Total Loan Amount   DPD 2 State Type  DPD Counts  \n",
       "0         735000.000  79.893    Growing           0  \n",
       "1         260000.000  93.778    Growing           1  \n",
       "2         365000.000  61.846    Growing           0  \n",
       "3         260000.000 152.923    Growing           4  \n",
       "4         360000.000  80.167    Growing           0  "
      ]
     },
     "execution_count": 45,
     "metadata": {},
     "output_type": "execute_result"
    }
   ],
   "source": [
    "df_branch_wise.head()"
   ]
  },
  {
   "cell_type": "code",
   "execution_count": 46,
   "metadata": {},
   "outputs": [],
   "source": [
    "df_branch_wise.to_csv(r\"E:\\Muthoot POC\\Branch Data\\cc.csv\")"
   ]
  },
  {
   "cell_type": "code",
   "execution_count": 47,
   "metadata": {},
   "outputs": [
    {
     "data": {
      "text/plain": [
       "0    14197\n",
       "1      802\n",
       "Name: DPD Class, dtype: int64"
      ]
     },
     "execution_count": 47,
     "metadata": {},
     "output_type": "execute_result"
    }
   ],
   "source": [
    "df_loan_wise['DPD Class'].value_counts()"
   ]
  },
  {
   "cell_type": "markdown",
   "metadata": {},
   "source": [
    "# Modelling"
   ]
  },
  {
   "cell_type": "code",
   "execution_count": 48,
   "metadata": {},
   "outputs": [],
   "source": [
    "from sklearn.model_selection import train_test_split\n",
    "from sklearn.linear_model import LogisticRegression\n",
    "from sklearn import preprocessing\n",
    "from sklearn.metrics import confusion_matrix\n",
    "from sklearn.metrics import accuracy_score\n",
    "from sklearn.model_selection import GridSearchCV"
   ]
  },
  {
   "cell_type": "code",
   "execution_count": 49,
   "metadata": {},
   "outputs": [
    {
     "data": {
      "text/html": [
       "<div>\n",
       "<style scoped>\n",
       "    .dataframe tbody tr th:only-of-type {\n",
       "        vertical-align: middle;\n",
       "    }\n",
       "\n",
       "    .dataframe tbody tr th {\n",
       "        vertical-align: top;\n",
       "    }\n",
       "\n",
       "    .dataframe thead th {\n",
       "        text-align: right;\n",
       "    }\n",
       "</style>\n",
       "<table border=\"1\" class=\"dataframe\">\n",
       "  <thead>\n",
       "    <tr style=\"text-align: right;\">\n",
       "      <th></th>\n",
       "      <th>BRANCH</th>\n",
       "      <th>Productivity</th>\n",
       "      <th>Average Ticket Size</th>\n",
       "      <th>STATE</th>\n",
       "      <th>Total Loan Amount</th>\n",
       "      <th>DPD 2</th>\n",
       "      <th>State Type</th>\n",
       "      <th>DPD Counts</th>\n",
       "    </tr>\n",
       "  </thead>\n",
       "  <tbody>\n",
       "    <tr>\n",
       "      <th>0</th>\n",
       "      <td>ALANDURAI</td>\n",
       "      <td>28</td>\n",
       "      <td>26250.000</td>\n",
       "      <td>TAMILNADU</td>\n",
       "      <td>735000.000</td>\n",
       "      <td>79.893</td>\n",
       "      <td>Growing</td>\n",
       "      <td>0</td>\n",
       "    </tr>\n",
       "    <tr>\n",
       "      <th>1</th>\n",
       "      <td>ALANGUDI</td>\n",
       "      <td>9</td>\n",
       "      <td>28888.889</td>\n",
       "      <td>TAMILNADU</td>\n",
       "      <td>260000.000</td>\n",
       "      <td>93.778</td>\n",
       "      <td>Growing</td>\n",
       "      <td>1</td>\n",
       "    </tr>\n",
       "    <tr>\n",
       "      <th>2</th>\n",
       "      <td>ALANGULAM-OLD BUS STAND</td>\n",
       "      <td>13</td>\n",
       "      <td>28076.923</td>\n",
       "      <td>TAMILNADU</td>\n",
       "      <td>365000.000</td>\n",
       "      <td>61.846</td>\n",
       "      <td>Growing</td>\n",
       "      <td>0</td>\n",
       "    </tr>\n",
       "    <tr>\n",
       "      <th>3</th>\n",
       "      <td>ALWARTHIRUNAGARI</td>\n",
       "      <td>13</td>\n",
       "      <td>20000.000</td>\n",
       "      <td>TAMILNADU</td>\n",
       "      <td>260000.000</td>\n",
       "      <td>152.923</td>\n",
       "      <td>Growing</td>\n",
       "      <td>4</td>\n",
       "    </tr>\n",
       "    <tr>\n",
       "      <th>4</th>\n",
       "      <td>AMBASAMUDRAM</td>\n",
       "      <td>12</td>\n",
       "      <td>30000.000</td>\n",
       "      <td>TAMILNADU</td>\n",
       "      <td>360000.000</td>\n",
       "      <td>80.167</td>\n",
       "      <td>Growing</td>\n",
       "      <td>0</td>\n",
       "    </tr>\n",
       "  </tbody>\n",
       "</table>\n",
       "</div>"
      ],
      "text/plain": [
       "                    BRANCH  Productivity  Average Ticket Size      STATE  \\\n",
       "0                ALANDURAI            28            26250.000  TAMILNADU   \n",
       "1                 ALANGUDI             9            28888.889  TAMILNADU   \n",
       "2  ALANGULAM-OLD BUS STAND            13            28076.923  TAMILNADU   \n",
       "3         ALWARTHIRUNAGARI            13            20000.000  TAMILNADU   \n",
       "4             AMBASAMUDRAM            12            30000.000  TAMILNADU   \n",
       "\n",
       "   Total Loan Amount   DPD 2 State Type  DPD Counts  \n",
       "0         735000.000  79.893    Growing           0  \n",
       "1         260000.000  93.778    Growing           1  \n",
       "2         365000.000  61.846    Growing           0  \n",
       "3         260000.000 152.923    Growing           4  \n",
       "4         360000.000  80.167    Growing           0  "
      ]
     },
     "execution_count": 49,
     "metadata": {},
     "output_type": "execute_result"
    }
   ],
   "source": [
    "df_branch_wise.head()"
   ]
  },
  {
   "cell_type": "code",
   "execution_count": 50,
   "metadata": {},
   "outputs": [],
   "source": [
    "df_branch_wise.to_csv(r\"E:\\Muthoot POC\\Branch Data\\May-Final.csv\")"
   ]
  },
  {
   "cell_type": "code",
   "execution_count": 51,
   "metadata": {},
   "outputs": [],
   "source": [
    "df_branch_wise.to_csv(r\"E:\\Muthoot POC\\Branch Data\\Branch_wise_modelling.csv\")\n",
    "le = preprocessing.LabelEncoder()\n",
    "df_branch_wise['State Type'] = le.fit_transform(df_branch_wise['State Type'])\n",
    "le1 = preprocessing.LabelEncoder()\n",
    "df_branch_wise['STATE'] = le1.fit_transform(df_branch_wise['STATE'])"
   ]
  },
  {
   "cell_type": "code",
   "execution_count": 52,
   "metadata": {},
   "outputs": [],
   "source": [
    "df_state_dummy = pd.get_dummies(df_branch_wise['STATE'])"
   ]
  },
  {
   "cell_type": "code",
   "execution_count": 53,
   "metadata": {},
   "outputs": [],
   "source": [
    "df_branch_wise_2 = pd.concat([df_branch_wise, df_state_dummy], axis=1)"
   ]
  },
  {
   "cell_type": "code",
   "execution_count": 54,
   "metadata": {},
   "outputs": [],
   "source": [
    "df_branch_wise_2['State 1'] = df_branch_wise_2[0]\n",
    "df_branch_wise_2['State 2'] = df_branch_wise_2[1]\n",
    "df_branch_wise_2['State 3'] = df_branch_wise_2[2]"
   ]
  },
  {
   "cell_type": "code",
   "execution_count": 55,
   "metadata": {},
   "outputs": [
    {
     "data": {
      "text/html": [
       "<div>\n",
       "<style scoped>\n",
       "    .dataframe tbody tr th:only-of-type {\n",
       "        vertical-align: middle;\n",
       "    }\n",
       "\n",
       "    .dataframe tbody tr th {\n",
       "        vertical-align: top;\n",
       "    }\n",
       "\n",
       "    .dataframe thead th {\n",
       "        text-align: right;\n",
       "    }\n",
       "</style>\n",
       "<table border=\"1\" class=\"dataframe\">\n",
       "  <thead>\n",
       "    <tr style=\"text-align: right;\">\n",
       "      <th></th>\n",
       "      <th>Productivity</th>\n",
       "      <th>Average Ticket Size</th>\n",
       "      <th>State 1</th>\n",
       "      <th>State 2</th>\n",
       "      <th>State 3</th>\n",
       "      <th>DPD Counts</th>\n",
       "      <th>State Type</th>\n",
       "    </tr>\n",
       "  </thead>\n",
       "  <tbody>\n",
       "    <tr>\n",
       "      <th>0</th>\n",
       "      <td>28</td>\n",
       "      <td>26250.000</td>\n",
       "      <td>0</td>\n",
       "      <td>0</td>\n",
       "      <td>1</td>\n",
       "      <td>0</td>\n",
       "      <td>0</td>\n",
       "    </tr>\n",
       "    <tr>\n",
       "      <th>1</th>\n",
       "      <td>9</td>\n",
       "      <td>28888.889</td>\n",
       "      <td>0</td>\n",
       "      <td>0</td>\n",
       "      <td>1</td>\n",
       "      <td>1</td>\n",
       "      <td>0</td>\n",
       "    </tr>\n",
       "  </tbody>\n",
       "</table>\n",
       "</div>"
      ],
      "text/plain": [
       "   Productivity  Average Ticket Size  State 1  State 2  State 3  DPD Counts  \\\n",
       "0            28            26250.000        0        0        1           0   \n",
       "1             9            28888.889        0        0        1           1   \n",
       "\n",
       "   State Type  \n",
       "0           0  \n",
       "1           0  "
      ]
     },
     "execution_count": 55,
     "metadata": {},
     "output_type": "execute_result"
    }
   ],
   "source": [
    "df_branch_wise_1 = df_branch_wise_2[['Productivity', 'Average Ticket Size', 'State 1', 'State 2', 'State 3',\n",
    "                                     'DPD Counts', 'State Type']]\n",
    "df_branch_wise_1.head(2)"
   ]
  },
  {
   "cell_type": "code",
   "execution_count": 56,
   "metadata": {},
   "outputs": [
    {
     "name": "stdout",
     "output_type": "stream",
     "text": [
      "<class 'pandas.core.frame.DataFrame'>\n",
      "Int64Index: 238 entries, 0 to 237\n",
      "Data columns (total 7 columns):\n",
      "Productivity           238 non-null int64\n",
      "Average Ticket Size    238 non-null float64\n",
      "State 1                238 non-null uint8\n",
      "State 2                238 non-null uint8\n",
      "State 3                238 non-null uint8\n",
      "DPD Counts             238 non-null int64\n",
      "State Type             238 non-null int64\n",
      "dtypes: float64(1), int64(3), uint8(3)\n",
      "memory usage: 10.0 KB\n"
     ]
    }
   ],
   "source": [
    "df_branch_wise_1.info()"
   ]
  },
  {
   "cell_type": "code",
   "execution_count": 57,
   "metadata": {},
   "outputs": [],
   "source": [
    "X_train, X_test, y_train, y_test = train_test_split(df_branch_wise_1.drop('State Type', axis=1), df_branch_wise_1['State Type'], test_size=0.2, random_state=2)"
   ]
  },
  {
   "cell_type": "code",
   "execution_count": 58,
   "metadata": {
    "scrolled": true
   },
   "outputs": [],
   "source": [
    "xxx = pd.DataFrame(y_test)"
   ]
  },
  {
   "cell_type": "code",
   "execution_count": 59,
   "metadata": {},
   "outputs": [
    {
     "data": {
      "text/html": [
       "<div>\n",
       "<style scoped>\n",
       "    .dataframe tbody tr th:only-of-type {\n",
       "        vertical-align: middle;\n",
       "    }\n",
       "\n",
       "    .dataframe tbody tr th {\n",
       "        vertical-align: top;\n",
       "    }\n",
       "\n",
       "    .dataframe thead th {\n",
       "        text-align: right;\n",
       "    }\n",
       "</style>\n",
       "<table border=\"1\" class=\"dataframe\">\n",
       "  <thead>\n",
       "    <tr style=\"text-align: right;\">\n",
       "      <th></th>\n",
       "      <th>State Type</th>\n",
       "    </tr>\n",
       "  </thead>\n",
       "  <tbody>\n",
       "    <tr>\n",
       "      <th>20</th>\n",
       "      <td>0</td>\n",
       "    </tr>\n",
       "    <tr>\n",
       "      <th>149</th>\n",
       "      <td>2</td>\n",
       "    </tr>\n",
       "    <tr>\n",
       "      <th>30</th>\n",
       "      <td>2</td>\n",
       "    </tr>\n",
       "    <tr>\n",
       "      <th>54</th>\n",
       "      <td>1</td>\n",
       "    </tr>\n",
       "    <tr>\n",
       "      <th>147</th>\n",
       "      <td>1</td>\n",
       "    </tr>\n",
       "  </tbody>\n",
       "</table>\n",
       "</div>"
      ],
      "text/plain": [
       "     State Type\n",
       "20            0\n",
       "149           2\n",
       "30            2\n",
       "54            1\n",
       "147           1"
      ]
     },
     "execution_count": 59,
     "metadata": {},
     "output_type": "execute_result"
    }
   ],
   "source": [
    "xxx.head()"
   ]
  },
  {
   "cell_type": "code",
   "execution_count": 60,
   "metadata": {},
   "outputs": [
    {
     "data": {
      "text/html": [
       "<div>\n",
       "<style scoped>\n",
       "    .dataframe tbody tr th:only-of-type {\n",
       "        vertical-align: middle;\n",
       "    }\n",
       "\n",
       "    .dataframe tbody tr th {\n",
       "        vertical-align: top;\n",
       "    }\n",
       "\n",
       "    .dataframe thead th {\n",
       "        text-align: right;\n",
       "    }\n",
       "</style>\n",
       "<table border=\"1\" class=\"dataframe\">\n",
       "  <thead>\n",
       "    <tr style=\"text-align: right;\">\n",
       "      <th></th>\n",
       "      <th>Productivity</th>\n",
       "      <th>Average Ticket Size</th>\n",
       "      <th>State 1</th>\n",
       "      <th>State 2</th>\n",
       "      <th>State 3</th>\n",
       "      <th>DPD Counts</th>\n",
       "    </tr>\n",
       "  </thead>\n",
       "  <tbody>\n",
       "    <tr>\n",
       "      <th>20</th>\n",
       "      <td>22</td>\n",
       "      <td>32045.455</td>\n",
       "      <td>0</td>\n",
       "      <td>0</td>\n",
       "      <td>1</td>\n",
       "      <td>0</td>\n",
       "    </tr>\n",
       "    <tr>\n",
       "      <th>149</th>\n",
       "      <td>5</td>\n",
       "      <td>20000.000</td>\n",
       "      <td>0</td>\n",
       "      <td>0</td>\n",
       "      <td>1</td>\n",
       "      <td>5</td>\n",
       "    </tr>\n",
       "    <tr>\n",
       "      <th>30</th>\n",
       "      <td>7</td>\n",
       "      <td>20000.000</td>\n",
       "      <td>0</td>\n",
       "      <td>0</td>\n",
       "      <td>1</td>\n",
       "      <td>0</td>\n",
       "    </tr>\n",
       "    <tr>\n",
       "      <th>54</th>\n",
       "      <td>29</td>\n",
       "      <td>41551.724</td>\n",
       "      <td>0</td>\n",
       "      <td>0</td>\n",
       "      <td>1</td>\n",
       "      <td>0</td>\n",
       "    </tr>\n",
       "    <tr>\n",
       "      <th>147</th>\n",
       "      <td>41</td>\n",
       "      <td>26585.366</td>\n",
       "      <td>0</td>\n",
       "      <td>0</td>\n",
       "      <td>1</td>\n",
       "      <td>5</td>\n",
       "    </tr>\n",
       "  </tbody>\n",
       "</table>\n",
       "</div>"
      ],
      "text/plain": [
       "     Productivity  Average Ticket Size  State 1  State 2  State 3  DPD Counts\n",
       "20             22            32045.455        0        0        1           0\n",
       "149             5            20000.000        0        0        1           5\n",
       "30              7            20000.000        0        0        1           0\n",
       "54             29            41551.724        0        0        1           0\n",
       "147            41            26585.366        0        0        1           5"
      ]
     },
     "execution_count": 60,
     "metadata": {},
     "output_type": "execute_result"
    }
   ],
   "source": [
    "X_test.head()"
   ]
  },
  {
   "cell_type": "code",
   "execution_count": 94,
   "metadata": {},
   "outputs": [
    {
     "data": {
      "text/plain": [
       "(48, 6)"
      ]
     },
     "execution_count": 94,
     "metadata": {},
     "output_type": "execute_result"
    }
   ],
   "source": [
    "X_test.shape"
   ]
  },
  {
   "cell_type": "code",
   "execution_count": null,
   "metadata": {},
   "outputs": [],
   "source": []
  },
  {
   "cell_type": "code",
   "execution_count": null,
   "metadata": {},
   "outputs": [],
   "source": []
  },
  {
   "cell_type": "code",
   "execution_count": 90,
   "metadata": {},
   "outputs": [],
   "source": [
    "ones = pd.DataFrame(list(np.ones(48)))"
   ]
  },
  {
   "cell_type": "code",
   "execution_count": 91,
   "metadata": {},
   "outputs": [],
   "source": [
    "xxy = pd.concat([X_test, y_test], axis=1)"
   ]
  },
  {
   "cell_type": "code",
   "execution_count": 102,
   "metadata": {
    "scrolled": true
   },
   "outputs": [
    {
     "ename": "TypeError",
     "evalue": "cannot concatenate object of type \"<class 'numpy.ndarray'>\"; only pd.Series, pd.DataFrame, and pd.Panel (deprecated) objs are valid",
     "output_type": "error",
     "traceback": [
      "\u001b[1;31m---------------------------------------------------------------------------\u001b[0m",
      "\u001b[1;31mTypeError\u001b[0m                                 Traceback (most recent call last)",
      "\u001b[1;32m<ipython-input-102-87e915460b47>\u001b[0m in \u001b[0;36m<module>\u001b[1;34m()\u001b[0m\n\u001b[1;32m----> 1\u001b[1;33m \u001b[0mxxz\u001b[0m \u001b[1;33m=\u001b[0m \u001b[0mpd\u001b[0m\u001b[1;33m.\u001b[0m\u001b[0mconcat\u001b[0m\u001b[1;33m(\u001b[0m\u001b[1;33m[\u001b[0m\u001b[0mX_test\u001b[0m\u001b[1;33m,\u001b[0m \u001b[0mdf_branch_wise_1\u001b[0m\u001b[1;33m[\u001b[0m\u001b[1;34m'State Type'\u001b[0m\u001b[1;33m]\u001b[0m\u001b[1;33m,\u001b[0m \u001b[0my_pred\u001b[0m\u001b[1;33m]\u001b[0m\u001b[1;33m,\u001b[0m \u001b[0maxis\u001b[0m\u001b[1;33m=\u001b[0m\u001b[1;36m1\u001b[0m\u001b[1;33m)\u001b[0m\u001b[1;33m\u001b[0m\u001b[0m\n\u001b[0m",
      "\u001b[1;32mC:\\ProgramData\\Anaconda3\\lib\\site-packages\\pandas\\core\\reshape\\concat.py\u001b[0m in \u001b[0;36mconcat\u001b[1;34m(objs, axis, join, join_axes, ignore_index, keys, levels, names, verify_integrity, sort, copy)\u001b[0m\n\u001b[0;32m    223\u001b[0m                        \u001b[0mkeys\u001b[0m\u001b[1;33m=\u001b[0m\u001b[0mkeys\u001b[0m\u001b[1;33m,\u001b[0m \u001b[0mlevels\u001b[0m\u001b[1;33m=\u001b[0m\u001b[0mlevels\u001b[0m\u001b[1;33m,\u001b[0m \u001b[0mnames\u001b[0m\u001b[1;33m=\u001b[0m\u001b[0mnames\u001b[0m\u001b[1;33m,\u001b[0m\u001b[1;33m\u001b[0m\u001b[0m\n\u001b[0;32m    224\u001b[0m                        \u001b[0mverify_integrity\u001b[0m\u001b[1;33m=\u001b[0m\u001b[0mverify_integrity\u001b[0m\u001b[1;33m,\u001b[0m\u001b[1;33m\u001b[0m\u001b[0m\n\u001b[1;32m--> 225\u001b[1;33m                        copy=copy, sort=sort)\n\u001b[0m\u001b[0;32m    226\u001b[0m     \u001b[1;32mreturn\u001b[0m \u001b[0mop\u001b[0m\u001b[1;33m.\u001b[0m\u001b[0mget_result\u001b[0m\u001b[1;33m(\u001b[0m\u001b[1;33m)\u001b[0m\u001b[1;33m\u001b[0m\u001b[0m\n\u001b[0;32m    227\u001b[0m \u001b[1;33m\u001b[0m\u001b[0m\n",
      "\u001b[1;32mC:\\ProgramData\\Anaconda3\\lib\\site-packages\\pandas\\core\\reshape\\concat.py\u001b[0m in \u001b[0;36m__init__\u001b[1;34m(self, objs, axis, join, join_axes, keys, levels, names, ignore_index, verify_integrity, copy, sort)\u001b[0m\n\u001b[0;32m    284\u001b[0m                        \u001b[1;34m' only pd.Series, pd.DataFrame, and pd.Panel'\u001b[0m\u001b[1;33m\u001b[0m\u001b[0m\n\u001b[0;32m    285\u001b[0m                        ' (deprecated) objs are valid'.format(type(obj)))\n\u001b[1;32m--> 286\u001b[1;33m                 \u001b[1;32mraise\u001b[0m \u001b[0mTypeError\u001b[0m\u001b[1;33m(\u001b[0m\u001b[0mmsg\u001b[0m\u001b[1;33m)\u001b[0m\u001b[1;33m\u001b[0m\u001b[0m\n\u001b[0m\u001b[0;32m    287\u001b[0m \u001b[1;33m\u001b[0m\u001b[0m\n\u001b[0;32m    288\u001b[0m             \u001b[1;31m# consolidate\u001b[0m\u001b[1;33m\u001b[0m\u001b[1;33m\u001b[0m\u001b[0m\n",
      "\u001b[1;31mTypeError\u001b[0m: cannot concatenate object of type \"<class 'numpy.ndarray'>\"; only pd.Series, pd.DataFrame, and pd.Panel (deprecated) objs are valid"
     ]
    }
   ],
   "source": [
    "xxz = pd.concat([X_test, df_branch_wise_1['State Type'], y_pred], axis=1)"
   ]
  },
  {
   "cell_type": "code",
   "execution_count": 101,
   "metadata": {},
   "outputs": [],
   "source": [
    "xxz.to_csv(r\"E:\\Muthoot POC\\Branch Data\\xxz.csv\")"
   ]
  },
  {
   "cell_type": "code",
   "execution_count": 62,
   "metadata": {
    "scrolled": true
   },
   "outputs": [],
   "source": [
    "xxy.to_csv(r\"E:\\Muthoot POC\\Branch Data\\Y_TESTDATA.csv\")"
   ]
  },
  {
   "cell_type": "code",
   "execution_count": 63,
   "metadata": {
    "scrolled": true
   },
   "outputs": [],
   "source": [
    "clf = LogisticRegression(random_state=0, solver='lbfgs', \n",
    "                         multi_class='multinomial', class_weight='balanced').fit(X_train, y_train)"
   ]
  },
  {
   "cell_type": "code",
   "execution_count": 64,
   "metadata": {},
   "outputs": [
    {
     "data": {
      "text/plain": [
       "LogisticRegression(C=1.0, class_weight='balanced', dual=False,\n",
       "          fit_intercept=True, intercept_scaling=1, max_iter=100,\n",
       "          multi_class='multinomial', n_jobs=1, penalty='l2',\n",
       "          random_state=0, solver='lbfgs', tol=0.0001, verbose=0,\n",
       "          warm_start=False)"
      ]
     },
     "execution_count": 64,
     "metadata": {},
     "output_type": "execute_result"
    }
   ],
   "source": [
    "clf"
   ]
  },
  {
   "cell_type": "code",
   "execution_count": 65,
   "metadata": {},
   "outputs": [
    {
     "data": {
      "text/html": [
       "<table class=\"simpletable\">\n",
       "<caption>OLS Regression Results</caption>\n",
       "<tr>\n",
       "  <th>Dep. Variable:</th>       <td>State Type</td>    <th>  R-squared:         </th> <td>   0.046</td>\n",
       "</tr>\n",
       "<tr>\n",
       "  <th>Model:</th>                   <td>OLS</td>       <th>  Adj. R-squared:    </th> <td>   0.020</td>\n",
       "</tr>\n",
       "<tr>\n",
       "  <th>Method:</th>             <td>Least Squares</td>  <th>  F-statistic:       </th> <td>   1.764</td>\n",
       "</tr>\n",
       "<tr>\n",
       "  <th>Date:</th>             <td>Thu, 06 Dec 2018</td> <th>  Prob (F-statistic):</th>  <td> 0.122</td> \n",
       "</tr>\n",
       "<tr>\n",
       "  <th>Time:</th>                 <td>11:53:05</td>     <th>  Log-Likelihood:    </th> <td> -228.27</td>\n",
       "</tr>\n",
       "<tr>\n",
       "  <th>No. Observations:</th>      <td>   190</td>      <th>  AIC:               </th> <td>   468.5</td>\n",
       "</tr>\n",
       "<tr>\n",
       "  <th>Df Residuals:</th>          <td>   184</td>      <th>  BIC:               </th> <td>   488.0</td>\n",
       "</tr>\n",
       "<tr>\n",
       "  <th>Df Model:</th>              <td>     5</td>      <th>                     </th>     <td> </td>   \n",
       "</tr>\n",
       "<tr>\n",
       "  <th>Covariance Type:</th>      <td>nonrobust</td>    <th>                     </th>     <td> </td>   \n",
       "</tr>\n",
       "</table>\n",
       "<table class=\"simpletable\">\n",
       "<tr>\n",
       "           <td></td>              <th>coef</th>     <th>std err</th>      <th>t</th>      <th>P>|t|</th>  <th>[0.025</th>    <th>0.975]</th>  \n",
       "</tr>\n",
       "<tr>\n",
       "  <th>const</th>               <td>    1.3692</td> <td>    0.288</td> <td>    4.750</td> <td> 0.000</td> <td>    0.801</td> <td>    1.938</td>\n",
       "</tr>\n",
       "<tr>\n",
       "  <th>Productivity</th>        <td>    0.0009</td> <td>    0.001</td> <td>    1.205</td> <td> 0.230</td> <td>   -0.001</td> <td>    0.002</td>\n",
       "</tr>\n",
       "<tr>\n",
       "  <th>Average Ticket Size</th> <td>-3.436e-05</td> <td> 1.32e-05</td> <td>   -2.605</td> <td> 0.010</td> <td>-6.04e-05</td> <td>-8.33e-06</td>\n",
       "</tr>\n",
       "<tr>\n",
       "  <th>State 1</th>             <td>    0.1063</td> <td>    0.218</td> <td>    0.488</td> <td> 0.626</td> <td>   -0.323</td> <td>    0.536</td>\n",
       "</tr>\n",
       "<tr>\n",
       "  <th>State 2</th>             <td>    0.6491</td> <td>    0.340</td> <td>    1.908</td> <td> 0.058</td> <td>   -0.022</td> <td>    1.320</td>\n",
       "</tr>\n",
       "<tr>\n",
       "  <th>State 3</th>             <td>    0.6138</td> <td>    0.210</td> <td>    2.920</td> <td> 0.004</td> <td>    0.199</td> <td>    1.028</td>\n",
       "</tr>\n",
       "<tr>\n",
       "  <th>DPD Counts</th>          <td>   -0.0292</td> <td>    0.015</td> <td>   -1.948</td> <td> 0.053</td> <td>   -0.059</td> <td>    0.000</td>\n",
       "</tr>\n",
       "</table>\n",
       "<table class=\"simpletable\">\n",
       "<tr>\n",
       "  <th>Omnibus:</th>       <td>504.196</td> <th>  Durbin-Watson:     </th> <td>   1.785</td>\n",
       "</tr>\n",
       "<tr>\n",
       "  <th>Prob(Omnibus):</th> <td> 0.000</td>  <th>  Jarque-Bera (JB):  </th> <td>  15.994</td>\n",
       "</tr>\n",
       "<tr>\n",
       "  <th>Skew:</th>          <td> 0.042</td>  <th>  Prob(JB):          </th> <td>0.000336</td>\n",
       "</tr>\n",
       "<tr>\n",
       "  <th>Kurtosis:</th>      <td> 1.581</td>  <th>  Cond. No.          </th> <td>2.43e+20</td>\n",
       "</tr>\n",
       "</table><br/><br/>Warnings:<br/>[1] Standard Errors assume that the covariance matrix of the errors is correctly specified.<br/>[2] The smallest eigenvalue is 2.54e-30. This might indicate that there are<br/>strong multicollinearity problems or that the design matrix is singular."
      ],
      "text/plain": [
       "<class 'statsmodels.iolib.summary.Summary'>\n",
       "\"\"\"\n",
       "                            OLS Regression Results                            \n",
       "==============================================================================\n",
       "Dep. Variable:             State Type   R-squared:                       0.046\n",
       "Model:                            OLS   Adj. R-squared:                  0.020\n",
       "Method:                 Least Squares   F-statistic:                     1.764\n",
       "Date:                Thu, 06 Dec 2018   Prob (F-statistic):              0.122\n",
       "Time:                        11:53:05   Log-Likelihood:                -228.27\n",
       "No. Observations:                 190   AIC:                             468.5\n",
       "Df Residuals:                     184   BIC:                             488.0\n",
       "Df Model:                           5                                         \n",
       "Covariance Type:            nonrobust                                         \n",
       "=======================================================================================\n",
       "                          coef    std err          t      P>|t|      [0.025      0.975]\n",
       "---------------------------------------------------------------------------------------\n",
       "const                   1.3692      0.288      4.750      0.000       0.801       1.938\n",
       "Productivity            0.0009      0.001      1.205      0.230      -0.001       0.002\n",
       "Average Ticket Size -3.436e-05   1.32e-05     -2.605      0.010   -6.04e-05   -8.33e-06\n",
       "State 1                 0.1063      0.218      0.488      0.626      -0.323       0.536\n",
       "State 2                 0.6491      0.340      1.908      0.058      -0.022       1.320\n",
       "State 3                 0.6138      0.210      2.920      0.004       0.199       1.028\n",
       "DPD Counts             -0.0292      0.015     -1.948      0.053      -0.059       0.000\n",
       "==============================================================================\n",
       "Omnibus:                      504.196   Durbin-Watson:                   1.785\n",
       "Prob(Omnibus):                  0.000   Jarque-Bera (JB):               15.994\n",
       "Skew:                           0.042   Prob(JB):                     0.000336\n",
       "Kurtosis:                       1.581   Cond. No.                     2.43e+20\n",
       "==============================================================================\n",
       "\n",
       "Warnings:\n",
       "[1] Standard Errors assume that the covariance matrix of the errors is correctly specified.\n",
       "[2] The smallest eigenvalue is 2.54e-30. This might indicate that there are\n",
       "strong multicollinearity problems or that the design matrix is singular.\n",
       "\"\"\""
      ]
     },
     "execution_count": 65,
     "metadata": {},
     "output_type": "execute_result"
    }
   ],
   "source": [
    "import statsmodels.api as sm\n",
    "X = sm.add_constant(X_train)\n",
    "model = sm.OLS(y_train, X).fit()\n",
    "model.summary()"
   ]
  },
  {
   "cell_type": "code",
   "execution_count": 84,
   "metadata": {},
   "outputs": [
    {
     "data": {
      "text/plain": [
       "(48, 6)"
      ]
     },
     "execution_count": 84,
     "metadata": {},
     "output_type": "execute_result"
    }
   ],
   "source": [
    "X_test.shape"
   ]
  },
  {
   "cell_type": "code",
   "execution_count": 88,
   "metadata": {},
   "outputs": [],
   "source": [
    "df_full1 = pd.concat([X_test, y_test], axis=1)\n",
    "df_full1.to_csv(r'E:\\Muthoot POC\\Branch Data\\Outputs\\df_full1.csv')"
   ]
  },
  {
   "cell_type": "code",
   "execution_count": 67,
   "metadata": {},
   "outputs": [
    {
     "data": {
      "text/plain": [
       "array([[ 9,  1,  2],\n",
       "       [ 3, 17,  0],\n",
       "       [ 2,  0, 14]], dtype=int64)"
      ]
     },
     "execution_count": 67,
     "metadata": {},
     "output_type": "execute_result"
    }
   ],
   "source": [
    "y_pred = clf.predict(X_test)\n",
    "confusion_matrix(y_test, y_pred)"
   ]
  },
  {
   "cell_type": "code",
   "execution_count": 68,
   "metadata": {},
   "outputs": [],
   "source": [
    "# ACCURACY"
   ]
  },
  {
   "cell_type": "code",
   "execution_count": 69,
   "metadata": {},
   "outputs": [
    {
     "data": {
      "text/plain": [
       "0.8333333333333334"
      ]
     },
     "execution_count": 69,
     "metadata": {},
     "output_type": "execute_result"
    }
   ],
   "source": [
    "accuracy_score(y_test, y_pred)"
   ]
  },
  {
   "cell_type": "code",
   "execution_count": 70,
   "metadata": {},
   "outputs": [
    {
     "name": "stdout",
     "output_type": "stream",
     "text": [
      "             precision    recall  f1-score   support\n",
      "\n",
      "          0       0.64      0.75      0.69        12\n",
      "          1       0.94      0.85      0.89        20\n",
      "          2       0.88      0.88      0.88        16\n",
      "\n",
      "avg / total       0.85      0.83      0.84        48\n",
      "\n"
     ]
    }
   ],
   "source": [
    "from sklearn.metrics import classification_report\n",
    "print(classification_report(y_test, y_pred))"
   ]
  },
  {
   "cell_type": "code",
   "execution_count": 71,
   "metadata": {},
   "outputs": [
    {
     "data": {
      "text/plain": [
       "['Growing', 'Matured', 'New']"
      ]
     },
     "execution_count": 71,
     "metadata": {},
     "output_type": "execute_result"
    }
   ],
   "source": [
    "list(le.classes_)"
   ]
  },
  {
   "cell_type": "code",
   "execution_count": 72,
   "metadata": {},
   "outputs": [
    {
     "data": {
      "text/plain": [
       "['GUJARAT', 'PUNJAB', 'TAMILNADU']"
      ]
     },
     "execution_count": 72,
     "metadata": {},
     "output_type": "execute_result"
    }
   ],
   "source": [
    "list(le1.classes_)"
   ]
  },
  {
   "cell_type": "code",
   "execution_count": 73,
   "metadata": {},
   "outputs": [],
   "source": [
    "# import pylab as pl\n",
    "\n",
    "# cm = confusion_matrix(y_test, y_pred)\n",
    "# pl.matshow(cm)\n",
    "# pl.title('Confusion matrix of the classifier')\n",
    "# pl.colorbar()\n",
    "# pl.show()"
   ]
  },
  {
   "cell_type": "code",
   "execution_count": 74,
   "metadata": {},
   "outputs": [],
   "source": [
    "df_con = pd.DataFrame(pd.crosstab(y_test, y_pred, rownames=['True'], colnames=['Predicted'], margins=True))"
   ]
  },
  {
   "cell_type": "code",
   "execution_count": 75,
   "metadata": {},
   "outputs": [],
   "source": [
    "# df_con.columns = ['Growing', 'Matured', 'New', 'All']"
   ]
  },
  {
   "cell_type": "code",
   "execution_count": 76,
   "metadata": {
    "scrolled": true
   },
   "outputs": [],
   "source": [
    "# df_con.rename(index={0:'GUJARAT',1:'PUNJAB',2:'TAMILNADU'}, inplace=True)"
   ]
  },
  {
   "cell_type": "code",
   "execution_count": 77,
   "metadata": {},
   "outputs": [
    {
     "data": {
      "text/html": [
       "<div>\n",
       "<style scoped>\n",
       "    .dataframe tbody tr th:only-of-type {\n",
       "        vertical-align: middle;\n",
       "    }\n",
       "\n",
       "    .dataframe tbody tr th {\n",
       "        vertical-align: top;\n",
       "    }\n",
       "\n",
       "    .dataframe thead th {\n",
       "        text-align: right;\n",
       "    }\n",
       "</style>\n",
       "<table border=\"1\" class=\"dataframe\">\n",
       "  <thead>\n",
       "    <tr style=\"text-align: right;\">\n",
       "      <th>Predicted</th>\n",
       "      <th>0</th>\n",
       "      <th>1</th>\n",
       "      <th>2</th>\n",
       "      <th>All</th>\n",
       "    </tr>\n",
       "    <tr>\n",
       "      <th>True</th>\n",
       "      <th></th>\n",
       "      <th></th>\n",
       "      <th></th>\n",
       "      <th></th>\n",
       "    </tr>\n",
       "  </thead>\n",
       "  <tbody>\n",
       "    <tr>\n",
       "      <th>0</th>\n",
       "      <td>9</td>\n",
       "      <td>1</td>\n",
       "      <td>2</td>\n",
       "      <td>12</td>\n",
       "    </tr>\n",
       "    <tr>\n",
       "      <th>1</th>\n",
       "      <td>3</td>\n",
       "      <td>17</td>\n",
       "      <td>0</td>\n",
       "      <td>20</td>\n",
       "    </tr>\n",
       "    <tr>\n",
       "      <th>2</th>\n",
       "      <td>2</td>\n",
       "      <td>0</td>\n",
       "      <td>14</td>\n",
       "      <td>16</td>\n",
       "    </tr>\n",
       "    <tr>\n",
       "      <th>All</th>\n",
       "      <td>14</td>\n",
       "      <td>18</td>\n",
       "      <td>16</td>\n",
       "      <td>48</td>\n",
       "    </tr>\n",
       "  </tbody>\n",
       "</table>\n",
       "</div>"
      ],
      "text/plain": [
       "Predicted   0   1   2  All\n",
       "True                      \n",
       "0           9   1   2   12\n",
       "1           3  17   0   20\n",
       "2           2   0  14   16\n",
       "All        14  18  16   48"
      ]
     },
     "execution_count": 77,
     "metadata": {},
     "output_type": "execute_result"
    }
   ],
   "source": [
    "df_con"
   ]
  },
  {
   "cell_type": "code",
   "execution_count": null,
   "metadata": {},
   "outputs": [],
   "source": []
  },
  {
   "cell_type": "code",
   "execution_count": null,
   "metadata": {},
   "outputs": [],
   "source": []
  }
 ],
 "metadata": {
  "kernelspec": {
   "display_name": "Python 3",
   "language": "python",
   "name": "python3"
  },
  "language_info": {
   "codemirror_mode": {
    "name": "ipython",
    "version": 3
   },
   "file_extension": ".py",
   "mimetype": "text/x-python",
   "name": "python",
   "nbconvert_exporter": "python",
   "pygments_lexer": "ipython3",
   "version": "3.7.1"
  }
 },
 "nbformat": 4,
 "nbformat_minor": 2
}
